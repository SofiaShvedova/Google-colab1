{
  "nbformat": 4,
  "nbformat_minor": 0,
  "metadata": {
    "colab": {
      "name": "10.09.2021 Практическая работа 2.ipynb",
      "provenance": [],
      "authorship_tag": "ABX9TyMBTAAIc/fq+9aQSzCLyHNW",
      "include_colab_link": true
    },
    "kernelspec": {
      "name": "python3",
      "display_name": "Python 3"
    },
    "language_info": {
      "name": "python"
    }
  },
  "cells": [
    {
      "cell_type": "markdown",
      "metadata": {
        "id": "view-in-github",
        "colab_type": "text"
      },
      "source": [
        "<a href=\"https://colab.research.google.com/github/SofiaShvedova/Google-colab1/blob/main/10_09_2021_%D0%9F%D1%80%D0%B0%D0%BA%D1%82%D0%B8%D1%87%D0%B5%D1%81%D0%BA%D0%B0%D1%8F_%D1%80%D0%B0%D0%B1%D0%BE%D1%82%D0%B0_2.ipynb\" target=\"_parent\"><img src=\"https://colab.research.google.com/assets/colab-badge.svg\" alt=\"Open In Colab\"/></a>"
      ]
    },
    {
      "cell_type": "code",
      "metadata": {
        "id": "eb13YnuNLRFN"
      },
      "source": [
        "class Human:\n",
        "    def __init__(self, name, age, iq):\n",
        "        self.name = name\n",
        "        self.age = age\n",
        "        if self.age < 0:\n",
        "            print(\"Oops, necromancer detected =) \")\n",
        "        self.iq = iq\n",
        "necromancer = Human(\"Wow\", 10, 200)"
      ],
      "execution_count": null,
      "outputs": []
    },
    {
      "cell_type": "code",
      "metadata": {
        "colab": {
          "base_uri": "https://localhost:8080/"
        },
        "id": "2lz8QUVoNwIK",
        "outputId": "ca98242e-955c-41bf-9d80-54f6c95d587c"
      },
      "source": [
        "class Human:\n",
        "    legs = 2 #Статическое свойство\n",
        "    head = 1 #Статическое свойство\n",
        "    def __init__(self, name):\n",
        "      self.name = name\n",
        "girl=Human(\"Hey\")\n",
        "print(girl.legs)"
      ],
      "execution_count": null,
      "outputs": [
        {
          "output_type": "stream",
          "name": "stdout",
          "text": [
            "2\n"
          ]
        }
      ]
    },
    {
      "cell_type": "code",
      "metadata": {
        "colab": {
          "base_uri": "https://localhost:8080/"
        },
        "id": "ekJtM28CPJLd",
        "outputId": "cbde1237-fc7f-41c9-81f7-9a82a80361b3"
      },
      "source": [
        "class Point:\n",
        "  amount = 0 #Статическое свойство\n",
        "\n",
        "  def __init__(self, *args): #конструктор\n",
        "    if len(args) == 2:\n",
        "      self.x = args[0]\n",
        "      self.y = args[1]\n",
        "    else:\n",
        "      self.x = self.y = 0\n",
        "    Point.amount += 1\n",
        " \n",
        "  def __del__(self): # деструктор\n",
        "    Point.amount -= 1\n",
        "\n",
        "  def distance(self):\n",
        "    return (self.x ** 2 + self.y ** 2 ) ** 0,5\n",
        "\n",
        "  def __str__(self): # оператор преобразования в строку\n",
        "    return '({}; {}) '.format(self.x, self.y)\n",
        "\n",
        "p = Point(36,42)\n",
        "print(p)"
      ],
      "execution_count": null,
      "outputs": [
        {
          "output_type": "stream",
          "name": "stdout",
          "text": [
            "(36; 42) \n"
          ]
        }
      ]
    },
    {
      "cell_type": "code",
      "metadata": {
        "colab": {
          "base_uri": "https://localhost:8080/"
        },
        "id": "N48NZjxcSaJk",
        "outputId": "fcb9437c-4f2c-4848-b4b9-07ad7bacb50c"
      },
      "source": [
        "from math import sqrt, pi\n",
        "\n",
        "class circle:\n",
        "  def __init__(self, x, y, radius):\n",
        "    self.centre = Point(x, y)\n",
        "    self.radius = radius\n",
        "  \n",
        "  def lenght(self):\n",
        "    return 2*pi*self.radius\n",
        "\n",
        "  def square(self):\n",
        "    return pi*self.radius**2\n",
        "\n",
        "  def move(self, x, y):\n",
        "    self.centre.x = x\n",
        "    self.centre.y = y\n",
        "\n",
        "  def distance(self):\n",
        "    return sqrt(self.centre.x ** 2 + self.centre.y ** 2)\n",
        "\n",
        "  def __str__(self):\n",
        "    return \"Circle: centre: {}; radius: {}\" \\\n",
        "                          .format(self.centre, self.radius)\n",
        "\n",
        "c = circle(1,2,3)\n",
        "print(c)\n",
        "print(round(c.lenght(),2))\n",
        "print(round(c.square(),2))\n",
        "c.move(3,4)\n",
        "print(round(c.distance(),2))\n",
        "\n",
        "\n"
      ],
      "execution_count": null,
      "outputs": [
        {
          "output_type": "stream",
          "name": "stdout",
          "text": [
            "Circle: centre: (1; 2) ; radius: 3\n",
            "18.85\n",
            "28.27\n",
            "5.0\n"
          ]
        }
      ]
    }
  ]
}