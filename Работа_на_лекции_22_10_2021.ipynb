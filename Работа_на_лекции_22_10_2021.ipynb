{
  "nbformat": 4,
  "nbformat_minor": 0,
  "metadata": {
    "colab": {
      "name": "Работа на лекции 22.10.2021.ipynb",
      "provenance": [],
      "authorship_tag": "ABX9TyNrKVtlo6F92JHC8fkqtsih",
      "include_colab_link": true
    },
    "kernelspec": {
      "name": "python3",
      "display_name": "Python 3"
    },
    "language_info": {
      "name": "python"
    }
  },
  "cells": [
    {
      "cell_type": "markdown",
      "metadata": {
        "id": "view-in-github",
        "colab_type": "text"
      },
      "source": [
        "<a href=\"https://colab.research.google.com/github/SofiaShvedova/ShvedovaSS/blob/main/%D0%A0%D0%B0%D0%B1%D0%BE%D1%82%D0%B0_%D0%BD%D0%B0_%D0%BB%D0%B5%D0%BA%D1%86%D0%B8%D0%B8_22_10_2021.ipynb\" target=\"_parent\"><img src=\"https://colab.research.google.com/assets/colab-badge.svg\" alt=\"Open In Colab\"/></a>"
      ]
    },
    {
      "cell_type": "code",
      "metadata": {
        "colab": {
          "base_uri": "https://localhost:8080/"
        },
        "id": "72wKkeKYAeG5",
        "outputId": "5a82e8c0-8b85-44ff-914c-beac21bd2d83"
      },
      "source": [
        "class Win_Door:\n",
        "  def __init__(self, x, y):\n",
        "    self.square = x*y\n",
        "\n",
        "class Room:\n",
        "  def __init__(self, x, y,z):\n",
        "    self.square = 2 * z * (x+y)\n",
        "    self.wd = []\n",
        "  def addWD(self,w,h):\n",
        "    self.wd.append(Win_Door(w,h))\n",
        "  def workSurface(self):\n",
        "    new_square = self.square\n",
        "    for i in self.wd:\n",
        "      new_square -=i.square\n",
        "    return new_square\n",
        "\n",
        "r1 = Room(6, 3, 2.7)\n",
        "print(r1.square) # общая площадь\n",
        "r1.addWD(1,1) # площадь окна\n",
        "r1.addWD(1,1) # площадь окна\n",
        "r1.addWD(1,2) # площадь двери\n",
        "print(r1.workSurface())"
      ],
      "execution_count": null,
      "outputs": [
        {
          "output_type": "stream",
          "name": "stdout",
          "text": [
            "48.6\n",
            "44.6\n"
          ]
        }
      ]
    }
  ]
}