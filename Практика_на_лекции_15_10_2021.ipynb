{
  "nbformat": 4,
  "nbformat_minor": 0,
  "metadata": {
    "colab": {
      "name": "Практика на лекции 15.10.2021.ipynb",
      "provenance": [],
      "authorship_tag": "ABX9TyNr+ejWDIC38SCbhwSWkLP6",
      "include_colab_link": true
    },
    "kernelspec": {
      "name": "python3",
      "display_name": "Python 3"
    },
    "language_info": {
      "name": "python"
    }
  },
  "cells": [
    {
      "cell_type": "markdown",
      "metadata": {
        "id": "view-in-github",
        "colab_type": "text"
      },
      "source": [
        "<a href=\"https://colab.research.google.com/github/SofiaShvedova/ShvedovaSS/blob/main/%D0%9F%D1%80%D0%B0%D0%BA%D1%82%D0%B8%D0%BA%D0%B0_%D0%BD%D0%B0_%D0%BB%D0%B5%D0%BA%D1%86%D0%B8%D0%B8_15_10_2021.ipynb\" target=\"_parent\"><img src=\"https://colab.research.google.com/assets/colab-badge.svg\" alt=\"Open In Colab\"/></a>"
      ]
    },
    {
      "cell_type": "code",
      "metadata": {
        "colab": {
          "base_uri": "https://localhost:8080/"
        },
        "id": "aUG3uz_rbBli",
        "outputId": "7242d86f-d254-48de-a740-829e903849ec"
      },
      "source": [
        "class T1:\n",
        "  n = 10\n",
        "  def total(self,N): # сигнатура (в скобках)\n",
        "    self.total = int(self.n) + int(N) \n",
        "\n",
        "class T2:\n",
        "  def total(self,s):\n",
        "    self.total = len(str(s))\n",
        "\n",
        "t1 = T1()\n",
        "t2 = T2()\n",
        "t1.total(45)\n",
        "t2.total(45)\n",
        "print(t1.total)\n",
        "print(t2.total)"
      ],
      "execution_count": 1,
      "outputs": [
        {
          "output_type": "stream",
          "name": "stdout",
          "text": [
            "55\n",
            "2\n"
          ]
        }
      ]
    },
    {
      "cell_type": "code",
      "metadata": {
        "colab": {
          "base_uri": "https://localhost:8080/"
        },
        "id": "Mpc1xN-edi5v",
        "outputId": "ea010b4a-78d7-4c37-a212-bbaccd8930d4"
      },
      "source": [
        "class Rectangle:\n",
        "  def __init__(self, widht, height, sign):\n",
        "    self.w = int(widht)\n",
        "    self.h = int(height)\n",
        "    self.s = str(sign)\n",
        "  \n",
        "  def __str__(self):\n",
        "    rect = []\n",
        "    for i in range(self.h):\n",
        "      rect.append(self.s * self.w)\n",
        "    rect = \"\\т\".join(rect)\n",
        "    return rect \n",
        "  \n",
        "  def __add__(self,other):\n",
        "    return Rectangle(self.w + other.w, self.h + other.h, self.s)\n",
        "\n",
        "a = Rectangle(4,2,\"w\")\n",
        "print(a)\n",
        "b = Rectangle(8,3,\"z\")\n",
        "print(b)\n",
        "print(a+b)\n",
        "print(b+a)"
      ],
      "execution_count": 2,
      "outputs": [
        {
          "output_type": "stream",
          "name": "stdout",
          "text": [
            "wwww\\тwwww\n",
            "zzzzzzzz\\тzzzzzzzz\\тzzzzzzzz\n",
            "wwwwwwwwwwww\\тwwwwwwwwwwww\\тwwwwwwwwwwww\\тwwwwwwwwwwww\\тwwwwwwwwwwww\n",
            "zzzzzzzzzzzz\\тzzzzzzzzzzzz\\тzzzzzzzzzzzz\\тzzzzzzzzzzzz\\тzzzzzzzzzzzz\n"
          ]
        }
      ]
    }
  ]
}