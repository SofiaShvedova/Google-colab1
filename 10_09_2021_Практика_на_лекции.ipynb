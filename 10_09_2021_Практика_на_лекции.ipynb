{
  "nbformat": 4,
  "nbformat_minor": 0,
  "metadata": {
    "colab": {
      "name": "10.09.2021 Практика на лекции.ipynb",
      "provenance": [],
      "authorship_tag": "ABX9TyP9sQfyDTH9i3bYUmygBKCf",
      "include_colab_link": true
    },
    "kernelspec": {
      "name": "python3",
      "display_name": "Python 3"
    },
    "language_info": {
      "name": "python"
    }
  },
  "cells": [
    {
      "cell_type": "markdown",
      "metadata": {
        "id": "view-in-github",
        "colab_type": "text"
      },
      "source": [
        "<a href=\"https://colab.research.google.com/github/SofiaShvedova/Google-colab1/blob/main/10_09_2021_%D0%9F%D1%80%D0%B0%D0%BA%D1%82%D0%B8%D0%BA%D0%B0_%D0%BD%D0%B0_%D0%BB%D0%B5%D0%BA%D1%86%D0%B8%D0%B8.ipynb\" target=\"_parent\"><img src=\"https://colab.research.google.com/assets/colab-badge.svg\" alt=\"Open In Colab\"/></a>"
      ]
    },
    {
      "cell_type": "code",
      "metadata": {
        "colab": {
          "base_uri": "https://localhost:8080/"
        },
        "id": "DprAJ1xM9lkp",
        "outputId": "3d083978-ef01-463d-8414-8e6796d3b832"
      },
      "source": [
        "class Parrot:\n",
        "    species = \"bird\"\n",
        "  # атрибут экземпляра\n",
        "    def __init__(self, name, age):\n",
        "      self.name = name\n",
        "      self.age = age\n",
        "  # создаем экземпляр класс Parrot\n",
        "blu = Parrot(\"Blu\", 10)\n",
        "woo = Parrot(\"Woo\", 15)\n",
        "  # получаем доступ к атрибутам класса\n",
        "print(\"Blu is a {}\".format(blu.__class__.species))\n",
        "print(\"Woo is also a {}\".format(woo.name, woo.age))\n",
        "  # получаем доступ к атрибутам экземпляра\n",
        "print(\"{} is {} years old\".format ( blu.name, blu.age))\n",
        "print(\"{} is {} years old\".format ( woo.name, woo.age))"
      ],
      "execution_count": 22,
      "outputs": [
        {
          "output_type": "stream",
          "name": "stdout",
          "text": [
            "Blu is a bird\n",
            "Woo is also a Woo\n",
            "Blu is 10 years old\n",
            "Woo is 15 years old\n"
          ]
        }
      ]
    },
    {
      "cell_type": "code",
      "metadata": {
        "id": "ItdvJs7O9U0v"
      },
      "source": [
        "Пример 2: Создание методов в Python"
      ],
      "execution_count": null,
      "outputs": []
    },
    {
      "cell_type": "code",
      "metadata": {
        "colab": {
          "base_uri": "https://localhost:8080/"
        },
        "id": "LPVNQ2i5uYyF",
        "outputId": "6a068012-3c4c-482c-9ac9-7fcab8d580b8"
      },
      "source": [
        "class Parrot:\n",
        "  # атрибуты экземпляров\n",
        "  def __init__(self, name, age):\n",
        "            self.name = name\n",
        "            self.age = age\n",
        "  # метод экземпляра\n",
        "  def sing(self, song):\n",
        "      return \"{} sings {}\".format(self.name, song)\n",
        "  def dance(self):\n",
        "      return \"{} is now dancing\".format(self.name)\n",
        "  def eat(self):\n",
        "      return \"{} is now eating\".format(self.name)\n",
        "  # создаем экземпляр объекта\n",
        "blu = Parrot(\"Blu\", 10)\n",
        "  # вызываем методы экземпляра\n",
        "print(blu.sing(\"'Happy'\"))\n",
        "print(blu.dance())\n",
        "print(blu.eat())"
      ],
      "execution_count": 33,
      "outputs": [
        {
          "output_type": "stream",
          "name": "stdout",
          "text": [
            "Blu sings 'Happy'\n",
            "Blu is now dancing\n",
            "Blu is now eating\n"
          ]
        }
      ]
    }
  ]
}