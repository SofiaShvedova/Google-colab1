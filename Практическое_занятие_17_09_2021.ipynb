{
  "nbformat": 4,
  "nbformat_minor": 0,
  "metadata": {
    "colab": {
      "name": "Практическое занятие 17.09.2021.ipynb",
      "provenance": [],
      "authorship_tag": "ABX9TyOgny4z5h471WlWi6KF79ve",
      "include_colab_link": true
    },
    "kernelspec": {
      "name": "python3",
      "display_name": "Python 3"
    },
    "language_info": {
      "name": "python"
    }
  },
  "cells": [
    {
      "cell_type": "markdown",
      "metadata": {
        "id": "view-in-github",
        "colab_type": "text"
      },
      "source": [
        "<a href=\"https://colab.research.google.com/github/SofiaShvedova/ShvedovaSS/blob/main/%D0%9F%D1%80%D0%B0%D0%BA%D1%82%D0%B8%D1%87%D0%B5%D1%81%D0%BA%D0%BE%D0%B5_%D0%B7%D0%B0%D0%BD%D1%8F%D1%82%D0%B8%D0%B5_17_09_2021.ipynb\" target=\"_parent\"><img src=\"https://colab.research.google.com/assets/colab-badge.svg\" alt=\"Open In Colab\"/></a>"
      ]
    },
    {
      "cell_type": "code",
      "metadata": {
        "id": "86AeGeo8P0l7"
      },
      "source": [
        "class T1:\n",
        "  n=10\n",
        "  def total(self,N):\n",
        "    self.total = int(self.n) + int(N)\n",
        "\n",
        "class T2:\n",
        "  def total(self,s):\n",
        "    self.total = len(str(s))\n",
        "\n",
        "t1 = T1()\n",
        "t2 = T2()\n",
        "t1.total(45)\n",
        "t2.total(45)\n",
        "print(t1.total)\n",
        "print(t2.total)"
      ],
      "execution_count": null,
      "outputs": []
    },
    {
      "cell_type": "code",
      "metadata": {
        "id": "qFIPKpuGP3-T"
      },
      "source": [
        "class One:\n",
        "  def __init__(self, N):\n",
        "    self.N = N*N\n",
        "\n",
        "class Two:\n",
        "  def __init__(self, N):\n",
        "    self.N = N*2\n",
        "\n",
        "a = int(input(\"Введите число: \"))\n",
        "if -100<=a<=100:\n",
        "  obj = One(a)\n",
        "else:\n",
        "  obj = Two(a)\n",
        "\n",
        "print(obj.N)"
      ],
      "execution_count": null,
      "outputs": []
    },
    {
      "cell_type": "code",
      "metadata": {
        "colab": {
          "base_uri": "https://localhost:8080/"
        },
        "id": "NsyNGvJlP5ar",
        "outputId": "fcb56541-2590-49a0-9885-e940c4561532"
      },
      "source": [
        "class Base:\n",
        "\n",
        "  def __init__(self, n):\n",
        "    self.numb = n\n",
        "  def out(self): print(self.numb)\n",
        "\n",
        "class One(Base):\n",
        "  def multi(self, m):\n",
        "    self.numb*=m\n",
        "\n",
        "class Two(Base):\n",
        "  def inlist(self):\n",
        "    self.inlist = list(str(self.numb))\n",
        "  def out(self):\n",
        "    i = 0\n",
        "    while i < len(self.inlist):\n",
        "      print(self.inlist[i])\n",
        "      i += 1\n",
        "\n",
        "obj1 = One(45)\n",
        "obj2 = Two('abc')\n",
        "obj1.multi(2)\n",
        "obj1.out()\n",
        "obj2.inlist()\n",
        "obj2.out()\n",
        "t=int(input(\"Введите число: \"))\n",
        "obj= Base(t)\n",
        "print(obj.out())\n",
        "obj=One(t)\n",
        "print(obj.multi(t))\n",
        "obj=Two(t)\n",
        "print(obj.inlist())"
      ],
      "execution_count": 1,
      "outputs": [
        {
          "output_type": "stream",
          "name": "stdout",
          "text": [
            "90\n",
            "a\n",
            "b\n",
            "c\n",
            "Введите число: 25\n",
            "25\n",
            "None\n",
            "None\n",
            "None\n"
          ]
        }
      ]
    }
  ]
}