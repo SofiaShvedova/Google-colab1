{
  "nbformat": 4,
  "nbformat_minor": 0,
  "metadata": {
    "colab": {
      "name": "Лабораторная работа 4.ipynb",
      "provenance": [],
      "authorship_tag": "ABX9TyPmrOg4cHYPvJsJu82ksLd2",
      "include_colab_link": true
    },
    "kernelspec": {
      "display_name": "Python 3",
      "name": "python3"
    },
    "language_info": {
      "name": "python"
    }
  },
  "cells": [
    {
      "cell_type": "markdown",
      "metadata": {
        "id": "view-in-github",
        "colab_type": "text"
      },
      "source": [
        "<a href=\"https://colab.research.google.com/github/SofiaShvedova/ShvedovaSS/blob/main/%D0%9B%D0%B0%D0%B1%D0%BE%D1%80%D0%B0%D1%82%D0%BE%D1%80%D0%BD%D0%B0%D1%8F_%D1%80%D0%B0%D0%B1%D0%BE%D1%82%D0%B0_4.ipynb\" target=\"_parent\"><img src=\"https://colab.research.google.com/assets/colab-badge.svg\" alt=\"Open In Colab\"/></a>"
      ]
    },
    {
      "cell_type": "code",
      "metadata": {
        "id": "cdabVw0-W1hz"
      },
      "source": [
        "№ 4.2.1\n",
        "\n",
        "Рассчитать значение f при заданном значении вещественного числа x:\n",
        "\n",
        "f(x)=⎧⎩⎨⎪⎪x−−√+x2,1x,при x⩾0,в противном случае.\n",
        "При выводе на экран оставьте 2 знака после запятой.\n"
      ],
      "execution_count": null,
      "outputs": []
    },
    {
      "cell_type": "code",
      "metadata": {
        "colab": {
          "base_uri": "https://localhost:8080/"
        },
        "id": "nobGjhWKUhOx",
        "outputId": "2766d214-55cd-4866-b45b-9fc911141134"
      },
      "source": [
        "# Программирование на языке высокого уровня (Python).\n",
        "# https://www.yuripetrov.ru/edu/python\n",
        "# Задание task_04_02_01.\n",
        "#\n",
        "# Выполнил: Шведова Софья Сергеевна\n",
        "# Группа: АДЭУ-211\n",
        "# E-mail: shvedova_sofiya23@mail.ru\n",
        "\n",
        "\n",
        "х = float(input(\"Введите число:\"))\n",
        "\n",
        "if x >= 0:\n",
        "  print(\"f = \",  x ** 0,5 + х ** 2)\n",
        "else:\n",
        "  print(\"f = \",  1 / x)\n",
        "\n"
      ],
      "execution_count": null,
      "outputs": [
        {
          "name": "stdout",
          "output_type": "stream",
          "text": [
            "Введите число:3\n",
            "f =  -0.1\n"
          ]
        }
      ]
    },
    {
      "cell_type": "code",
      "metadata": {
        "colab": {
          "background_save": true
        },
        "id": "eNaha9SeajJ9",
        "outputId": "ccab0e03-ab5e-463e-b747-9dba691193b7"
      },
      "source": [
        "№ 4.2.2\n",
        "\n",
        "\n",
        "Определите максимальное и минимальное значения из двух различных целых чисел."
      ],
      "execution_count": null,
      "outputs": [
        {
          "ename": "SyntaxError",
          "evalue": "ignored",
          "output_type": "error",
          "traceback": [
            "\u001b[0;36m  File \u001b[0;32m\"<ipython-input-3-026cb8405c6e>\"\u001b[0;36m, line \u001b[0;32m1\u001b[0m\n\u001b[0;31m    Определите максимальное и минимальное значения из двух различных целых чисел.\u001b[0m\n\u001b[0m                          ^\u001b[0m\n\u001b[0;31mSyntaxError\u001b[0m\u001b[0;31m:\u001b[0m invalid syntax\n"
          ]
        }
      ]
    },
    {
      "cell_type": "code",
      "metadata": {
        "id": "lC6DltVSa1IF",
        "colab": {
          "base_uri": "https://localhost:8080/"
        },
        "outputId": "649dbe01-b8c8-4100-c11c-00871f680ab4"
      },
      "source": [
        "# Программирование на языке высокого уровня (Python).\n",
        "# https://www.yuripetrov.ru/edu/python\n",
        "# Задание task_04_02_02.\n",
        "#\n",
        "# Выполнил: Шведова Софья Сергеевна\n",
        "# Группа: АДЭУ-211\n",
        "# E-mail: shvedova_sofiya23@mail.ru\n",
        "\n",
        "\n",
        "a1 = input(\"Введите первое число:\")\n",
        "a2 = input(\"Введите второе число:\")\n",
        "\n",
        "# Переменная 'a_min' должна содержать минимум, 'a_max' - максимум\n",
        "a_min = min(a1, a2)\n",
        "a_max = max(a1, a2)\n",
        "print(\"Минимальное число \" + a_min)\n",
        "print(\"Максимальное число \" + a_max)"
      ],
      "execution_count": 34,
      "outputs": [
        {
          "output_type": "stream",
          "name": "stdout",
          "text": [
            "Введите первое число:5\n",
            "Введите второе число:10\n",
            "Минимальное число 10\n",
            "Максимальное число 5\n"
          ]
        }
      ]
    },
    {
      "cell_type": "code",
      "metadata": {
        "id": "aIX_K4gXdjN3"
      },
      "source": [
        "№ 4.2.3\n",
        "\n",
        "Вася пытается высунуть голову в форточку размерами a и b см. Приняв условно, что его голова - круглая диаметром d см, определите, сможет ли Вася сделать это. Для прохождения головы в форточку необходим зазор в 1 см. с каждой стороны.\n",
        "\n",
        "Все величины - целые числа."
      ],
      "execution_count": null,
      "outputs": []
    },
    {
      "cell_type": "code",
      "metadata": {
        "colab": {
          "base_uri": "https://localhost:8080/"
        },
        "id": "_KncF2HAdliW",
        "outputId": "a5897a21-7f50-45f6-bbaf-d6369de24b9e"
      },
      "source": [
        "# Программирование на языке высокого уровня (Python).\n",
        "# https://www.yuripetrov.ru/edu/python\n",
        "# Задание task_04_02_03.\n",
        "#\n",
        "# Выполнил: Шведова Софья Сергеевна\n",
        "# Группа: АДЭУ-211\n",
        "# E-mail: shvedova_sofiya23@mail.ru\n",
        "\n",
        "\n",
        "a = int(input(\"Введите ширину форточки:\"))\n",
        "b = int(input(\"Введите длину форточки:\"))\n",
        "d = int(input(\"Введите диаметр головы:\"))\n",
        "\n",
        "if a > 0 and b > 0 and d > 0:\n",
        "  if a > b:\n",
        "    n= b+2\n",
        "  else:\n",
        "    n= a+2\n",
        "    if d<=n:\n",
        "       print(\"Голова входит\")\n",
        "    else:\n",
        "        print(\"Голова не входит\")\n",
        "else:\n",
        "  print(\"Введите положительные значения\")\n"
      ],
      "execution_count": null,
      "outputs": [
        {
          "name": "stdout",
          "output_type": "stream",
          "text": [
            "Введите ширину форточки:5\n",
            "Введите длину форточки:6\n",
            "Введите диаметр головы:7\n",
            "Голова входит\n"
          ]
        }
      ]
    },
    {
      "cell_type": "code",
      "metadata": {
        "id": "nHWGRqwLmJDh"
      },
      "source": [
        "№ 4.2.4\n",
        "\n",
        "Известны год и номер месяца сегодняшнего дня, а также год и номер месяца рождения человека \n",
        "(нумерация месяцев с 1: январь - 1 и т.д.). Определите возраст человека (число полных лет).\n"
      ],
      "execution_count": null,
      "outputs": []
    },
    {
      "cell_type": "code",
      "metadata": {
        "colab": {
          "base_uri": "https://localhost:8080/"
        },
        "id": "gqtjNE4rmPbk",
        "outputId": "2bac1588-2d9c-41ba-c00f-5f16722ba177"
      },
      "source": [
        "# Программирование на языке высокого уровня (Python).\n",
        "# https://www.yuripetrov.ru/edu/python\n",
        "# Задание task_04_02_04.\n",
        "#\n",
        "# Выполнил: Шведова Софья Сергеевна\n",
        "# Группа: АДЭУ-211\n",
        "# E-mail: shvedova_sofiya23@mail.ru\n",
        "\n",
        "\n",
        "year_today = int(input(\"Введите текущий год:\"))\n",
        "month_today = int(input(\"Введите текущий месяц:\"))\n",
        "\n",
        "year = int(input(\"Введите год рождения:\"))\n",
        "month = int(input(\"Введите месяц рождения:\"))\n",
        "\n",
        "age = (((year_today - year) * 12 + month_today - month) // 12)\n",
        "\n",
        "\n",
        "\n",
        "print(\"Число полных лет: \", age)\n"
      ],
      "execution_count": null,
      "outputs": [
        {
          "name": "stdout",
          "output_type": "stream",
          "text": [
            "Введите текущий год:2021\n",
            "Введите текущий месяц:9\n",
            "Введите год рождения:2003\n",
            "Введите месяц рождения:10\n",
            "Число полных лет:  17\n"
          ]
        }
      ]
    },
    {
      "cell_type": "code",
      "metadata": {
        "id": "IfeI3OA-oNyu"
      },
      "source": [
        "№ 4.2.5\n",
        "\n",
        "Дана точка с целыми ненулевыми координатами (x;y). Определить номер четверти координатной плоскости, которой она принадлежит."
      ],
      "execution_count": null,
      "outputs": []
    },
    {
      "cell_type": "code",
      "metadata": {
        "colab": {
          "base_uri": "https://localhost:8080/"
        },
        "id": "QPHdD6YeoQug",
        "outputId": "e530ea87-1138-44c6-9f95-411c86fbf789"
      },
      "source": [
        "# Программирование на языке высокого уровня (Python).\n",
        "# https://www.yuripetrov.ru/edu/python\n",
        "# Задание task_04_02_05.\n",
        "#\n",
        "# Выполнил: Шведова Софья Сергеевна\n",
        "# Группа: АДЭУ-211\n",
        "# E-mail: shvedova_sofiya23@mail.ru\n",
        "\n",
        "\n",
        "x = int(input(\"Введите координату х:\"))\n",
        "y = int(input(\"Введите координату y:\"))\n",
        "\n",
        "if x > 0 and y > 0:\n",
        "    print(\"1-я четверть\")\n",
        "elif x > 0 and y < 0:\n",
        "    print(\"4-я четверть\")\n",
        "elif x < 0 and y > 0:\n",
        "    print(\"2-я четверть\")\n",
        "elif x < 0 and y < 0:\n",
        "    print(\"3-а четверть\")\n",
        "else:\n",
        "    print(\"Упс, нужно ввести ненулевое значение х и y =)\")"
      ],
      "execution_count": null,
      "outputs": [
        {
          "name": "stdout",
          "output_type": "stream",
          "text": [
            "Введите координату х:6\n",
            "Введите координату y:5\n",
            "1-я четверть\n"
          ]
        }
      ]
    },
    {
      "cell_type": "code",
      "metadata": {
        "id": "5H_raVo_nx14"
      },
      "source": [
        "№ 4.2.6\n",
        "\n",
        "Даны вещественные числа , ,  ().\n",
        "\n",
        "Решите уравнение . При выводе значений оставьте 1 знак после запятой."
      ],
      "execution_count": null,
      "outputs": []
    },
    {
      "cell_type": "code",
      "metadata": {
        "colab": {
          "base_uri": "https://localhost:8080/"
        },
        "id": "7Ts6WU68nyXz",
        "outputId": "ce738fdd-0b71-4778-b766-3b365f465496"
      },
      "source": [
        "# Программирование на языке высокого уровня (Python).\n",
        "# https://www.yuripetrov.ru/edu/python\n",
        "# Задание task_04_02_06.\n",
        "#\n",
        "# Выполнил: Шведова Софья Сергеевна\n",
        "# Группа: АДЭУ-211\n",
        "# E-mail: shvedova_sofiya23@mail.ru\n",
        "\n",
        "\n",
        "a = int(input(\"Введите число a: \"))\n",
        "b = int(input(\"Введите число b: \"))\n",
        "c = int(input(\"Введите число c: \"))\n",
        "\n",
        "\n",
        "# Расчет дискриминанта\n",
        "discriminant = b**2 - 4*a*c\n",
        "if discriminant >0:\n",
        "    x1 = (-b + discriminant**0.5) / (2 * a)\n",
        "    x2 = (-b - discriminant**0.5) / (2 * a)\n",
        "    print(\"x1 =\", round(x1, 1),\",\", \"x2 =\", round(x2, 1))\n",
        "\n",
        "elif discriminant == 0:\n",
        "  x = (b**2)/(2*a)\n",
        "  print(\"x1 =\", round(x, 1))\n",
        "\n",
        "else:\n",
        "  print(\"Решения нет\")\n",
        "\n"
      ],
      "execution_count": 31,
      "outputs": [
        {
          "output_type": "stream",
          "name": "stdout",
          "text": [
            "Введите число a: -5\n",
            "Введите число b: 10\n",
            "Введите число c: 20\n",
            "x1 = -1.2 , x2 = 3.2\n"
          ]
        }
      ]
    },
    {
      "cell_type": "code",
      "metadata": {
        "id": "O7VSAHtzvzgh"
      },
      "source": [
        "№ 4.2.7\n",
        "\n",
        "Дана непустая последовательность целых чисел, оканчивающаяся нулем. Найти сумму и количество введенных чисел."
      ],
      "execution_count": null,
      "outputs": []
    },
    {
      "cell_type": "code",
      "metadata": {
        "colab": {
          "base_uri": "https://localhost:8080/"
        },
        "id": "noZ_s-iYwQZ-",
        "outputId": "118ffaff-d863-42f3-f49f-9f566810c6f9"
      },
      "source": [
        "\n",
        "# Программирование на языке высокого уровня (Python).\n",
        "# https://www.yuripetrov.ru/edu/python\n",
        "# Задание task_04_02_07.\n",
        "#\n",
        "# Выполнил: Шведова Софья Сергеевна\n",
        "# Группа: АДЭУ-211\n",
        "# E-mail: shvedova_sofiya23@mail.ru\n",
        "\n",
        "x = int(input(\"Введите число: \"))\n",
        "nums_sum = nums_count = 0\n",
        "\n",
        "\n",
        "while x != 0:\n",
        "   nums_sum += x\n",
        "   nums_count += 1\n",
        "   x = int(input())\n",
        "\n",
        "print('Сумма чисел - ', nums_sum, 'количество чисел - ', nums_count)\n",
        "\n"
      ],
      "execution_count": null,
      "outputs": [
        {
          "name": "stdout",
          "output_type": "stream",
          "text": [
            "Введите число5\n",
            "6\n",
            "7\n",
            "666\n",
            "0\n",
            "Сумма чисел -  684 количество чисел -  4\n"
          ]
        }
      ]
    },
    {
      "cell_type": "code",
      "metadata": {
        "id": "UOx32GVaFK6b"
      },
      "source": [
        "№ 4.2.8\n",
        "\n",
        "Дано число n. Из чисел 5,10,15,20,25,... напечатать те, которые не превышают n."
      ],
      "execution_count": null,
      "outputs": []
    },
    {
      "cell_type": "code",
      "metadata": {
        "colab": {
          "base_uri": "https://localhost:8080/"
        },
        "id": "Lnupl2b0B2zY",
        "outputId": "c96d1049-5286-4b8d-9e9d-55a8e7053c9c"
      },
      "source": [
        "# Программирование на языке высокого уровня (Python).\n",
        "# https://www.yuripetrov.ru/edu/python\n",
        "# Задание task_04_02_08.\n",
        "#\n",
        "# Выполнил: Шведова Софья Сергеевна\n",
        "# Группа: АДЭУ-211\n",
        "# E-mail: shvedova_sofiya23@mail.ru\n",
        "\n",
        "\n",
        "\n",
        "n = int(input(\"Ввести число n: \"))\n",
        "a = 0\n",
        "d = 5\n",
        "while a < n:\n",
        "    a = a + 5\n",
        "    print(a)\n",
        "\n"
      ],
      "execution_count": 35,
      "outputs": [
        {
          "output_type": "stream",
          "name": "stdout",
          "text": [
            "Ввести число n: 10\n",
            "5\n",
            "10\n"
          ]
        }
      ]
    },
    {
      "cell_type": "code",
      "metadata": {
        "id": "Km1Yzg18JcDe"
      },
      "source": [
        "№ 4.2.10\n",
        "\n",
        "Дано натуральное число. Определите сумму и количество его цифр."
      ],
      "execution_count": null,
      "outputs": []
    },
    {
      "cell_type": "code",
      "metadata": {
        "colab": {
          "base_uri": "https://localhost:8080/"
        },
        "id": "Da27vEtlJz-I",
        "outputId": "13e593da-5160-4e6a-b3a3-ad8466ea37f1"
      },
      "source": [
        "# Программирование на языке высокого уровня (Python).\n",
        "# https://www.yuripetrov.ru/edu/python\n",
        "# Задание task_04_02_10.\n",
        "#\n",
        "# Выполнил: Шведова Софья Сергеевна\n",
        "# Группа: АДЭУ-211\n",
        "# E-mail: shvedova_sofiya23@mail.ru\n",
        "\n",
        "n = int(input(\"Введите натуральное число n:\"))\n",
        "\n",
        "n_sum = 0\n",
        "n_count = 0\n",
        "\n",
        "while (n > 0):\n",
        "    a = n % 10\n",
        "    n = n // 10\n",
        "    n_sum += a\n",
        "    n_count = n_count + 1\n",
        "print(\"Сумма цифр числа равна: \", n_sum)\n",
        "print(\"Количество цифр равно:\", n_count)\n"
      ],
      "execution_count": null,
      "outputs": [
        {
          "name": "stdout",
          "output_type": "stream",
          "text": [
            "Введите натуральное число n:56\n",
            "Сумма цифр числа равна:  11\n",
            "Количество цифр равно: 2\n"
          ]
        }
      ]
    },
    {
      "cell_type": "code",
      "metadata": {
        "id": "Xlk4Sb6AsQTy"
      },
      "source": [
        "№ 4.2.12\n",
        "\n",
        "Даны целые числа a и b (a может быть больше b). Напечатайте:\n",
        "\n",
        "числа от минимального до максимального в строчку (разделяя пробелом);\n",
        "\n",
        "числа от максимального до минимального «столбиком»."
      ],
      "execution_count": null,
      "outputs": []
    },
    {
      "cell_type": "code",
      "metadata": {
        "colab": {
          "base_uri": "https://localhost:8080/"
        },
        "id": "sN5Xr_lAsRGK",
        "outputId": "6592ea93-5d6b-4e4d-aaf4-a278d7670fc4"
      },
      "source": [
        "# Программирование на языке высокого уровня (Python).\n",
        "# https://www.yuripetrov.ru/edu/python\n",
        "# Задание task_04_02_12.\n",
        "#\n",
        "# Выполнил: Шведова Софья Сергеевна\n",
        "# Группа: АДЭУ-211\n",
        "# E-mail: shvedova_sofiya23@mail.ru\n",
        "\n",
        "\n",
        "\n",
        "a = int(input(\"Введите целое число a:\"))\n",
        "b = int(input(\"Введите целое число b:\"))\n",
        "\n",
        "class Mina:\n",
        "  ryad = [k for k in range(a, b+1)]\n",
        "  ryad.sort()\n",
        "  print(ryad)\n",
        " \n",
        "  ryad1 = [n for n in range(a, b+1)] \n",
        "  ryad1.sort(reverse=True)\n",
        "  print(*ryad1, sep=\"\\n\", end=\"\\n\\n\")\n",
        "\n",
        "\n",
        "\n"
      ],
      "execution_count": null,
      "outputs": [
        {
          "name": "stdout",
          "output_type": "stream",
          "text": [
            "Введите целое число a:15\n",
            "Введите целое число b:20\n",
            "[15, 16, 17, 18, 19, 20]\n",
            "20\n",
            "19\n",
            "18\n",
            "17\n",
            "16\n",
            "15\n",
            "\n"
          ]
        }
      ]
    },
    {
      "cell_type": "code",
      "metadata": {
        "id": "fR8BHWsQk_GU"
      },
      "source": [
        "№ 4.2.15\n",
        "\n",
        "Известна масса каждого предмета в кг., загружаемого в грузовик. Определить, возможна ли перевозка груза, если \n",
        "грузоподъемность грузовика равна p кг."
      ],
      "execution_count": null,
      "outputs": []
    },
    {
      "cell_type": "code",
      "metadata": {
        "colab": {
          "base_uri": "https://localhost:8080/"
        },
        "id": "WWtVocdRn9q8",
        "outputId": "c3470dd2-8e96-4246-d7eb-8a717825d54a"
      },
      "source": [
        "# Программирование на языке высокого уровня (Python).\n",
        "# https://www.yuripetrov.ru/edu/python\n",
        "# Задание task_04_02_15.\n",
        "#\n",
        "# Выполнил: Шведова Софья Сергеевна\n",
        "# Группа: АДЭУ-211\n",
        "# E-mail: shvedova_sofiya23@mail.ru\n",
        "\n",
        "\n",
        "\n",
        "p = int(input(\"Грузоподъемность грузовика:\"))\n",
        "n = int(input(\"Количество предметов:\"))\n",
        "e_sum = 0\n",
        "while n != 0:\n",
        "  n = n-1\n",
        "  e = int(input(\"Масса {} груза - \".format(n)))\n",
        "  e_sum += e\n",
        "\n",
        "\n",
        "if e_sum <= p:\n",
        "  print(\"Да, перегрузка груза возможна\")\n",
        "else:\n",
        "  print(\"Нет, перегрузка груза невозможна\")\n"
      ],
      "execution_count": 39,
      "outputs": [
        {
          "output_type": "stream",
          "name": "stdout",
          "text": [
            "Грузоподъемность грузовика:5\n",
            "Количество предметов:2\n",
            "Масса 1 груза - 1\n",
            "Масса 0 груза - 2\n",
            "Да, перегрузка груза возможна\n"
          ]
        }
      ]
    },
    {
      "cell_type": "code",
      "metadata": {
        "id": "CKZbkER2FphO"
      },
      "source": [
        "№ 4.2.16\n",
        "\n",
        "В области несколько районов. Заданы площади, засеваемые пшеницей (га.), и средняя урожайность (ц/га) в каждом районе.\n",
        "\n",
        "Определите количество пшеницы, собранное по области. При выводе вещественных результатов оставьте один знак после запятой."
      ],
      "execution_count": null,
      "outputs": []
    },
    {
      "cell_type": "code",
      "metadata": {
        "colab": {
          "base_uri": "https://localhost:8080/"
        },
        "id": "A6cR4N9yFp82",
        "outputId": "e8be0ce8-a423-4ca6-a0c2-871336d95bd2"
      },
      "source": [
        "# Программирование на языке высокого уровня (Python).\n",
        "# https://www.yuripetrov.ru/edu/python\n",
        "# Задание task_04_02_16.\n",
        "#\n",
        "# Выполнил: Шведова Софья Сергеевна\n",
        "# Группа: АДЭУ-211\n",
        "# E-mail: shvedova_sofiya23@mail.ru\n",
        "\n",
        "\n",
        "\n",
        "n = int(input(\"Количество районов:\"))\n",
        "k = 0\n",
        "while n != 0:\n",
        "  n = n-1\n",
        "  e = float(input(\"Урожайность в {} районе - \".format(n)))\n",
        "  l = int(input(\"Площадь {} района - \".format(n)))\n",
        "  k += e\n",
        "print(\"Собрано пшеницы: \" + \"%.1f\" %round(k,1) + \" га\")"
      ],
      "execution_count": null,
      "outputs": [
        {
          "name": "stdout",
          "output_type": "stream",
          "text": [
            "Количество районов:2\n",
            "Урожайность в 1 районе - 1\n",
            "Площадь 1 района - 2\n",
            "Урожайность в 0 районе - 1\n",
            "Площадь 0 района - 2\n",
            "Собрано пшеницы: 2.0 га\n"
          ]
        }
      ]
    },
    {
      "cell_type": "code",
      "metadata": {
        "id": "qbHz6rkXSP9Z"
      },
      "source": [
        "№ 4.2.17\n",
        "\n",
        "Решите задачу № 4.2.7, организовав бесконечный цикл, который бы прерывался при выполнении условия, используя оператор break."
      ],
      "execution_count": null,
      "outputs": []
    },
    {
      "cell_type": "code",
      "metadata": {
        "id": "fD572FN6Spji",
        "colab": {
          "base_uri": "https://localhost:8080/"
        },
        "outputId": "ae6a3e10-5808-4b15-f4ca-f251e68d265b"
      },
      "source": [
        "# Программирование на языке высокого уровня (Python).\n",
        "# https://www.yuripetrov.ru/edu/python\n",
        "# Задание task_04_02_17.\n",
        "#\n",
        "# Выполнил: Шведова Софья Сергеевна\n",
        "# Группа: АДЭУ-211\n",
        "# E-mail: shvedova_sofiya23@mail.ru\n",
        "\n",
        "x = int(input(\"Введите число\"))\n",
        "nums_sum = nums_count = 0\n",
        "\n",
        "\n",
        "while x:\n",
        "  nums_sum += x\n",
        "  nums_count += 1\n",
        "  x = int(input())\n",
        "  if x == 0:\n",
        "    break\n",
        "\n",
        "print('Сумма чисел - ', nums_sum, 'количество чисел - ', nums_count)"
      ],
      "execution_count": 40,
      "outputs": [
        {
          "output_type": "stream",
          "name": "stdout",
          "text": [
            "Введите число4\n",
            "5\n",
            "7\n",
            "0\n",
            "Сумма чисел -  16 количество чисел -  3\n"
          ]
        }
      ]
    },
    {
      "cell_type": "code",
      "metadata": {
        "id": "Wy_r_6RdV64r"
      },
      "source": [
        "№ 4.2.18\n",
        "\n",
        "Предложение, введенное с клавиатуры, содержит слова из гласных и согласных букв кириллицы (регистр может быть различный), а также пробелы.\n",
        "\n",
        "Определите количество гласных и согласных букв в предложении."
      ],
      "execution_count": null,
      "outputs": []
    },
    {
      "cell_type": "code",
      "metadata": {
        "colab": {
          "base_uri": "https://localhost:8080/"
        },
        "id": "j5e3OLvuWHXO",
        "outputId": "32ff8ffe-52ca-4d67-8d49-425fa7595599"
      },
      "source": [
        "# Программирование на языке высокого уровня (Python).\n",
        "# https://www.yuripetrov.ru/edu/python\n",
        "# Задание task_04_02_18.\n",
        "#\n",
        "# Выполнил: Шведова Софья Сергеевна\n",
        "# Группа: АДЭУ-211\n",
        "# E-mail: shvedova_sofiya23@mail.ru\n",
        "\n",
        "\n",
        "sentence = input(\"Введите предложение: \")\n",
        "\n",
        "count_gl = 10  # Кол-во гласных\n",
        "count_sogl = 21 # Кол-во согласных\n",
        "\n",
        "print('Количество гласных букв равно', sum(1 for _ in sentence if _ in 'ауоыиэяюёе'))\n",
        "print('Количество согласных букв равно', sum(1 for _ in sentence if _ in 'бвгджзйклмнпрстфхцчшщ'))\n"
      ],
      "execution_count": null,
      "outputs": [
        {
          "name": "stdout",
          "output_type": "stream",
          "text": [
            "Введите предложение: маня моя\n",
            "Количество гласных букв равно 4\n",
            "Количество согласных букв равно 3\n"
          ]
        }
      ]
    },
    {
      "cell_type": "code",
      "metadata": {
        "id": "rmYAc0jIiqUm"
      },
      "source": [
        "№ 4.2.19\n",
        "\n",
        "Выведите на экран (в строку) все целые числа от a до b, кратные некоторому числу c."
      ],
      "execution_count": null,
      "outputs": []
    },
    {
      "cell_type": "code",
      "metadata": {
        "colab": {
          "base_uri": "https://localhost:8080/"
        },
        "id": "577tpXAHivNN",
        "outputId": "fc6438e5-4ad2-47fb-9980-192502413fab"
      },
      "source": [
        "# Программирование на языке высокого уровня (Python).\n",
        "# https://www.yuripetrov.ru/edu/python\n",
        "# Задание task_04_02_19.\n",
        "#\n",
        "# Выполнил: Шведова Софья Сергеевна\n",
        "# Группа: АДЭУ-211\n",
        "# E-mail: shvedova_sofiya23@mail.ru\n",
        "\n",
        "\n",
        "a = int(input(\"Введите число а: \"))\n",
        "b = int(input(\"Введите число b: \"))\n",
        "c = int(input(\"Введите число c: \"))\n",
        "n = 0\n",
        "\n",
        "for i in range(a, b+1):\n",
        "  if not i % c:\n",
        "    n = n + 1\n",
        "    print(i, end=' ')\n",
        " \n",
        "\n",
        "\n"
      ],
      "execution_count": null,
      "outputs": [
        {
          "name": "stdout",
          "output_type": "stream",
          "text": [
            "Введите число а: 1\n",
            "Введите число b: 10\n",
            "Введите число c: 2\n",
            "2 4 6 8 10 "
          ]
        }
      ]
    },
    {
      "cell_type": "code",
      "metadata": {
        "id": "Fz4QSRu0oi5K"
      },
      "source": [
        "№ 4.2.21\n",
        "\n",
        "Известно количество учеников в классе и их рост (см.); рост мальчиков условно задан отрицательными числами. Определите средний рост мальчиков и средний рост девочек.\n",
        "\n",
        "При выводе вещественных результатов оставьте один знак после запятой."
      ],
      "execution_count": null,
      "outputs": []
    },
    {
      "cell_type": "code",
      "metadata": {
        "colab": {
          "base_uri": "https://localhost:8080/"
        },
        "id": "iNbftWA2lXWj",
        "outputId": "0c76d7d6-473d-49fe-ce0a-0dbc616f027c"
      },
      "source": [
        "# Программирование на языке высокого уровня (Python).\n",
        "# https://www.yuripetrov.ru/edu/python\n",
        "# Задание task_04_02_21.\n",
        "#\n",
        "# Выполнил: Шведова Софья Сергеевна\n",
        "# Группа: АДЭУ-211\n",
        "# E-mail: shvedova_sofiya23@mail.ru\n",
        "\n",
        "\n",
        "\n",
        "n = int(input(\"Количество учеников в классе: \"))\n",
        "r_sr_m = 0.0\n",
        "r_sr_d = 0.0\n",
        "lol=1\n",
        "mama=0\n",
        "while lol <=n:\n",
        "    a = int(input(\"Рост \"+ str(lol) + \"-го ученика = \"))\n",
        "    lol+=1\n",
        "    if a <0 :\n",
        "        mama+=1\n",
        "        r_sr_m -= a\n",
        "    else:\n",
        "        r_sr_d += a\n",
        "r_m= r_sr_m /(mama)\n",
        "r_d = r_sr_d / (n - mama)\n",
        "print('Cредний рост мальчиков: {:.1f}\\nCредний рост девочек: {:.1f}'.format(r_m, r_d))\n"
      ],
      "execution_count": null,
      "outputs": [
        {
          "output_type": "stream",
          "name": "stdout",
          "text": [
            "Количество учеников в классе: 3\n",
            "Рост 1-го ученика = -180\n",
            "Рост 2-го ученика = 190\n",
            "Рост 3-го ученика = 150\n",
            "Cредний рост мальчиков: 180.0\n",
            "Cредний рост девочек: 170.0\n"
          ]
        }
      ]
    },
    {
      "cell_type": "code",
      "metadata": {
        "id": "Dw0q4RqpY5Nl"
      },
      "source": [
        "№ 4.2.23\n",
        "\n",
        "Дано натуральное число n. Определите, является ли оно членом последовательности Фибоначчи."
      ],
      "execution_count": null,
      "outputs": []
    },
    {
      "cell_type": "code",
      "metadata": {
        "id": "V3MCdFO4ZFkM",
        "colab": {
          "base_uri": "https://localhost:8080/"
        },
        "outputId": "71725f0e-0ab9-4950-81f1-c98504357f33"
      },
      "source": [
        "# Программирование на языке высокого уровня (Python).\n",
        "# https://www.yuripetrov.ru/edu/python\n",
        "# Задание task_04_02_23.\n",
        "#\n",
        "# Выполнил: Шведова Софья Сергеевна\n",
        "# Группа: АДЭУ-211\n",
        "# E-mail: shvedova_sofiya23@mail.ru\n",
        "\n",
        "\n",
        "def mama(n):\n",
        "    a, b = 0, 1\n",
        "    for __ in range(n):\n",
        "        a, b = b, a + b\n",
        "        if n == b:\n",
        "          return True\n",
        "    return False\n",
        "m = int(input(\"Введите число: \"))\n",
        "print(mama(m))\n"
      ],
      "execution_count": null,
      "outputs": [
        {
          "output_type": "stream",
          "name": "stdout",
          "text": [
            "Введите число: 25\n",
            "False\n"
          ]
        }
      ]
    },
    {
      "cell_type": "code",
      "metadata": {
        "id": "LtX37Lqrahxk"
      },
      "source": [
        "№ 4.2.25\n",
        "\n",
        "Выведите на экран таблицу умножения на n (2<n≤9) в виде:\n",
        "\n",
        "1 х 1 = 1     1 х 2 = 2      ...   1 х n = ...\n",
        "2 х 1 = 2     2 х 2 = 4      ...   2 х n = ...\n",
        "...           ...            ...   ...\n",
        "n х 1 = ...   n х 2 = ...    ...   n х n = ..."
      ],
      "execution_count": null,
      "outputs": []
    },
    {
      "cell_type": "code",
      "metadata": {
        "colab": {
          "base_uri": "https://localhost:8080/"
        },
        "id": "L9h82mMky0h7",
        "outputId": "04dee39c-4d63-44cb-b8dd-96d2e26f7e4a"
      },
      "source": [
        "# Программирование на языке высокого уровня (Python).\n",
        "# https://www.yuripetrov.ru/edu/python\n",
        "# Задание task_04_02_25.\n",
        "#\n",
        "# Выполнил: Шведова Софья Сергеевна\n",
        "# Группа: АДЭУ-211\n",
        "# E-mail: shvedova_sofiya23@mail.ru\n",
        "\n",
        "\n",
        "\n",
        "\n",
        "n = int(input(\"Введите число: \"))\n",
        "i = 1\n",
        "if 2<n<=19:\n",
        "  while i <= n:\n",
        "      j = 1\n",
        "      while j <= n:\n",
        "          print(i, \"x\", j,  \"=\",  i*j, end=\"\\t\")\n",
        "          j += 1\n",
        "      i += 1\n",
        "      print()\n",
        "else:\n",
        "  print(\"Введите число, которое меньше или равно 19 и больше 2\")"
      ],
      "execution_count": null,
      "outputs": [
        {
          "output_type": "stream",
          "name": "stdout",
          "text": [
            "Введите число: 5\n",
            "1 x 1 = 1\t1 x 2 = 2\t1 x 3 = 3\t1 x 4 = 4\t1 x 5 = 5\t\n",
            "2 x 1 = 2\t2 x 2 = 4\t2 x 3 = 6\t2 x 4 = 8\t2 x 5 = 10\t\n",
            "3 x 1 = 3\t3 x 2 = 6\t3 x 3 = 9\t3 x 4 = 12\t3 x 5 = 15\t\n",
            "4 x 1 = 4\t4 x 2 = 8\t4 x 3 = 12\t4 x 4 = 16\t4 x 5 = 20\t\n",
            "5 x 1 = 5\t5 x 2 = 10\t5 x 3 = 15\t5 x 4 = 20\t5 x 5 = 25\t\n"
          ]
        }
      ]
    },
    {
      "cell_type": "code",
      "metadata": {
        "id": "SgMh3-yabTqu"
      },
      "source": [
        "№ 4.2.26\n",
        "\n",
        "Выведите графическое изображения делимости чисел от 1 до  (значение  вводится с клавиатуры) - в каждой строке напечатайте очередное число и столько символов *, сколько делителей у этого числа.\n",
        "\n",
        "Например, если , на экране должно быть напечатано:\n",
        "\n",
        "1 *\n",
        "2 **\n",
        "3 **\n",
        "4 ***"
      ],
      "execution_count": null,
      "outputs": []
    },
    {
      "cell_type": "code",
      "metadata": {
        "colab": {
          "base_uri": "https://localhost:8080/"
        },
        "id": "xXsPZ8VUbZjT",
        "outputId": "1b7eaf9d-6081-4e1e-92e6-91e6d7b07819"
      },
      "source": [
        "# Программирование на языке высокого уровня (Python).\n",
        "# https://www.yuripetrov.ru/edu/python\n",
        "# Задание task_04_02_26.\n",
        "#\n",
        "# Выполнил: Шведова Софья Сергеевна\n",
        "# Группа: АДЭУ-211\n",
        "# E-mail: shvedova_sofiya23@mail.ru\n",
        "\n",
        "\n",
        "\n",
        "\n",
        "n = int(input(\"Введите число n: \"))\n",
        "deliteli = 0\n",
        "\n",
        "\n",
        "for lol in range(1, int(n)+1):\n",
        "    for kek in range(1, lol+1):\n",
        "        if lol % kek == 0:\n",
        "            deliteli += 1\n",
        "    print(lol, deliteli * \"*\")\n",
        "    deliteli = 0\n"
      ],
      "execution_count": null,
      "outputs": [
        {
          "output_type": "stream",
          "name": "stdout",
          "text": [
            "Введите число n: 10\n",
            "1 *\n",
            "2 **\n",
            "3 **\n",
            "4 ***\n",
            "5 **\n",
            "6 ****\n",
            "7 **\n",
            "8 ****\n",
            "9 ***\n",
            "10 ****\n"
          ]
        }
      ]
    },
    {
      "cell_type": "code",
      "metadata": {
        "id": "Zrqw85M0egak"
      },
      "source": [
        "№ 4.2.27\n",
        "\n",
        "Выведите на экран (в строку) n первых простых чисел."
      ],
      "execution_count": null,
      "outputs": []
    },
    {
      "cell_type": "code",
      "metadata": {
        "colab": {
          "base_uri": "https://localhost:8080/"
        },
        "id": "WtZbPyaWf3mA",
        "outputId": "b783241e-b66b-49a0-86d4-be48219b7c73"
      },
      "source": [
        "# Программирование на языке высокого уровня (Python).\n",
        "# https://www.yuripetrov.ru/edu/python\n",
        "# Задание task_04_02_27.\n",
        "#\n",
        "# Выполнил: Шведова Софья Сергеевна\n",
        "# Группа: АДЭУ-211\n",
        "# E-mail: shvedova_sofiya23@mail.ru\n",
        "\n",
        "\n",
        "\n",
        "n = int(input(\"Введите число n: \"))\n",
        "mina=2\n",
        "play = 0\n",
        "print()\n",
        "print(\"Первые n простых чисел: \")\n",
        "while (play < n):\n",
        "    if all(mina % kek!= 0 for kek in range(2, mina)):\n",
        "        print(mina,end=\" \")\n",
        "        play +=1\n",
        "    mina+=1\n",
        "\n"
      ],
      "execution_count": null,
      "outputs": [
        {
          "output_type": "stream",
          "name": "stdout",
          "text": [
            "Введите число n: 20\n",
            "\n",
            "Первые n простых чисел: \n",
            "2 3 5 7 11 13 17 19 23 29 31 37 41 43 47 53 59 61 67 71 "
          ]
        }
      ]
    },
    {
      "cell_type": "code",
      "metadata": {
        "id": "bBUSgiTSiBdG"
      },
      "source": [
        "№ 4.2.28\n",
        "\n",
        "Составьте программу для нахождения всех натуральных решений уравнения , где , а  вводится с клавиатуры."
      ],
      "execution_count": null,
      "outputs": []
    },
    {
      "cell_type": "code",
      "metadata": {
        "colab": {
          "base_uri": "https://localhost:8080/"
        },
        "id": "BRq12hahiFO-",
        "outputId": "0b3f4bbd-f5f8-4cb5-9713-ef9aa56e8fec"
      },
      "source": [
        "# Программирование на языке высокого уровня (Python).\n",
        "# https://www.yuripetrov.ru/edu/python\n",
        "# Задание task_04_02_28.\n",
        "#\n",
        "# Выполнил: Шведова Софья Сергеевна\n",
        "# Группа: АДЭУ-211\n",
        "# E-mail: shvedova_sofiya23@mail.ru\n",
        "\n",
        "\n",
        "k = int(input(\"Введите число k: \"))\n",
        "for x in range(1, 31) :\n",
        "    for y in range(1, 31) :\n",
        "        for z in range(1, 31) :\n",
        "            if x*x + y*y + z*z == k*k :\n",
        "                print('x =',x,\",\",'y =',y,\",\",'z =',z)"
      ],
      "execution_count": null,
      "outputs": [
        {
          "output_type": "stream",
          "name": "stdout",
          "text": [
            "Введите число k: 30\n",
            "x = 4 , y = 10 , z = 28\n",
            "x = 4 , y = 20 , z = 22\n",
            "x = 4 , y = 22 , z = 20\n",
            "x = 4 , y = 28 , z = 10\n",
            "x = 10 , y = 4 , z = 28\n",
            "x = 10 , y = 20 , z = 20\n",
            "x = 10 , y = 28 , z = 4\n",
            "x = 20 , y = 4 , z = 22\n",
            "x = 20 , y = 10 , z = 20\n",
            "x = 20 , y = 20 , z = 10\n",
            "x = 20 , y = 22 , z = 4\n",
            "x = 22 , y = 4 , z = 20\n",
            "x = 22 , y = 20 , z = 4\n",
            "x = 28 , y = 4 , z = 10\n",
            "x = 28 , y = 10 , z = 4\n"
          ]
        }
      ]
    }
  ]
}