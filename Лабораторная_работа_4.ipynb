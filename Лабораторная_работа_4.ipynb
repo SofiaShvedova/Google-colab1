{
  "nbformat": 4,
  "nbformat_minor": 0,
  "metadata": {
    "colab": {
      "name": "Лабораторная работа 4.ipynb",
      "provenance": [],
      "authorship_tag": "ABX9TyNnfjE4PVNav/0JkcFGIX8L",
      "include_colab_link": true
    },
    "kernelspec": {
      "display_name": "Python 3",
      "name": "python3"
    },
    "language_info": {
      "name": "python"
    }
  },
  "cells": [
    {
      "cell_type": "markdown",
      "metadata": {
        "id": "view-in-github",
        "colab_type": "text"
      },
      "source": [
        "<a href=\"https://colab.research.google.com/github/SofiaShvedova/ShvedovaSS/blob/main/%D0%9B%D0%B0%D0%B1%D0%BE%D1%80%D0%B0%D1%82%D0%BE%D1%80%D0%BD%D0%B0%D1%8F_%D1%80%D0%B0%D0%B1%D0%BE%D1%82%D0%B0_4.ipynb\" target=\"_parent\"><img src=\"https://colab.research.google.com/assets/colab-badge.svg\" alt=\"Open In Colab\"/></a>"
      ]
    },
    {
      "cell_type": "code",
      "metadata": {
        "id": "cdabVw0-W1hz"
      },
      "source": [
        "№ 4.2.1\n",
        "\n",
        "Рассчитать значение f при заданном значении вещественного числа x:\n",
        "\n",
        "f(x)=⎧⎩⎨⎪⎪x−−√+x2,1x,при x⩾0,в противном случае.\n",
        "При выводе на экран оставьте 2 знака после запятой.\n"
      ],
      "execution_count": null,
      "outputs": []
    },
    {
      "cell_type": "code",
      "metadata": {
        "colab": {
          "base_uri": "https://localhost:8080/"
        },
        "id": "nobGjhWKUhOx",
        "outputId": "0a563d90-1c08-42d2-a36f-7afc1f7a8a88"
      },
      "source": [
        "# Программирование на языке высокого уровня (Python).\n",
        "# https://www.yuripetrov.ru/edu/python\n",
        "# Задание task_04_02_01.\n",
        "#\n",
        "# Выполнил: Шведова Софья Сергеевна\n",
        "# Группа: АДЭУ-211\n",
        "# E-mail: shvedova_sofiya23@mail.ru\n",
        "\n",
        "\n",
        "x = float(input(\"Введите число:\"))\n",
        "\n",
        "if x >= 0: # если х больше или равно нулю\n",
        "  x = x ** 0.5 + x ** 2  # арифметические действия\n",
        "  print(\"f = \", x) \n",
        "else:\n",
        "  x = 1 / x\n",
        "  print(\"f = \", x)\n",
        "\n"
      ],
      "execution_count": 20,
      "outputs": [
        {
          "output_type": "stream",
          "name": "stdout",
          "text": [
            "Введите число:4\n",
            "f =  18.0\n"
          ]
        }
      ]
    },
    {
      "cell_type": "code",
      "metadata": {
        "id": "eNaha9SeajJ9"
      },
      "source": [
        "№ 4.2.2\n",
        "\n",
        "Определите максимальное и минимальное значения из двух различных целых чисел."
      ],
      "execution_count": 10,
      "outputs": []
    },
    {
      "cell_type": "code",
      "metadata": {
        "id": "lC6DltVSa1IF",
        "colab": {
          "base_uri": "https://localhost:8080/"
        },
        "outputId": "c99f6392-637e-4e5b-aa40-eaa6d48d5c6a"
      },
      "source": [
        "# Программирование на языке высокого уровня (Python).\n",
        "# https://www.yuripetrov.ru/edu/python\n",
        "# Задание task_04_02_02.\n",
        "#\n",
        "# Выполнил: Шведова Софья Сергеевна\n",
        "# Группа: АДЭУ-211\n",
        "# E-mail: shvedova_sofiya23@mail.ru\n",
        "\n",
        "\n",
        "a1 = input(\"Введите первое число:\")\n",
        "a2 = input(\"Введите второе число:\")\n",
        "\n",
        "# Переменная 'a_min' должна содержать минимум, 'a_max' - максимум\n",
        "a_min = min(a1, a2)\n",
        "a_max = max(a1, a2)\n",
        "print(\"Минимальное число \" + a_min)\n",
        "print(\"Максимальное число \" + a_max)"
      ],
      "execution_count": 58,
      "outputs": [
        {
          "output_type": "stream",
          "name": "stdout",
          "text": [
            "Введите первое число:4\n",
            "Введите второе число:8\n",
            "Минимальное число 4\n",
            "Максимальное число 8\n"
          ]
        }
      ]
    },
    {
      "cell_type": "code",
      "metadata": {
        "id": "aIX_K4gXdjN3"
      },
      "source": [
        "№ 4.2.3\n",
        "\n",
        "Вася пытается высунуть голову в форточку размерами a и b см. Приняв условно, что его голова - круглая диаметром d см, определите, сможет ли Вася сделать это. Для прохождения головы в форточку необходим зазор в 1 см. с каждой стороны.\n",
        "\n",
        "Все величины - целые числа."
      ],
      "execution_count": null,
      "outputs": []
    },
    {
      "cell_type": "code",
      "metadata": {
        "colab": {
          "base_uri": "https://localhost:8080/"
        },
        "id": "_KncF2HAdliW",
        "outputId": "ca267e3c-7f7a-44f0-826c-b769ddf8895b"
      },
      "source": [
        "# Программирование на языке высокого уровня (Python).\n",
        "# https://www.yuripetrov.ru/edu/python\n",
        "# Задание task_04_02_03.\n",
        "#\n",
        "# Выполнил: Шведова Софья Сергеевна\n",
        "# Группа: АДЭУ-211\n",
        "# E-mail: shvedova_sofiya23@mail.ru\n",
        "\n",
        "\n",
        "a = int(input(\"Введите ширину форточки:\"))\n",
        "b = int(input(\"Введите длину форточки:\"))\n",
        "d = int(input(\"Введите диаметр головы:\"))\n",
        "\n",
        "if a > 0 and b > 0 and d > 0:\n",
        "  if a > b:\n",
        "    n= b+2\n",
        "  else:\n",
        "    n= a+2\n",
        "    if d<=n:\n",
        "       print(\"Голова входит\")\n",
        "    else:\n",
        "        print(\"Голова не входит\")\n",
        "else:\n",
        "  print(\"Введите положительные значения\")\n"
      ],
      "execution_count": 21,
      "outputs": [
        {
          "output_type": "stream",
          "name": "stdout",
          "text": [
            "Введите ширину форточки:3\n",
            "Введите длину форточки:5\n",
            "Введите диаметр головы:6\n",
            "Голова не входит\n"
          ]
        }
      ]
    },
    {
      "cell_type": "code",
      "metadata": {
        "id": "nHWGRqwLmJDh"
      },
      "source": [
        "№ 4.2.4\n",
        "\n",
        "Известны год и номер месяца сегодняшнего дня, а также год и номер месяца рождения человека \n",
        "(нумерация месяцев с 1: январь - 1 и т.д.). Определите возраст человека (число полных лет).\n"
      ],
      "execution_count": null,
      "outputs": []
    },
    {
      "cell_type": "code",
      "metadata": {
        "colab": {
          "base_uri": "https://localhost:8080/"
        },
        "id": "gqtjNE4rmPbk",
        "outputId": "0c63452b-3259-4de4-fae8-6937cd1293f7"
      },
      "source": [
        "# Программирование на языке высокого уровня (Python).\n",
        "# https://www.yuripetrov.ru/edu/python\n",
        "# Задание task_04_02_04.\n",
        "#\n",
        "# Выполнил: Шведова Софья Сергеевна\n",
        "# Группа: АДЭУ-211\n",
        "# E-mail: shvedova_sofiya23@mail.ru\n",
        "\n",
        "\n",
        "year_today = int(input(\"Введите текущий год:\"))\n",
        "month_today = int(input(\"Введите текущий месяц:\"))\n",
        "\n",
        "year = int(input(\"Введите год рождения:\"))\n",
        "month = int(input(\"Введите месяц рождения:\"))\n",
        "\n",
        "age = (((year_today - year) * 12 + month_today - month) // 12)\n",
        "\n",
        "\n",
        "\n",
        "print(\"Число полных лет: \", age)\n"
      ],
      "execution_count": 22,
      "outputs": [
        {
          "output_type": "stream",
          "name": "stdout",
          "text": [
            "Введите текущий год:2021\n",
            "Введите текущий месяц:10\n",
            "Введите год рождения:1999\n",
            "Введите месяц рождения:6\n",
            "Число полных лет:  22\n"
          ]
        }
      ]
    },
    {
      "cell_type": "code",
      "metadata": {
        "id": "IfeI3OA-oNyu"
      },
      "source": [
        "№ 4.2.5\n",
        "\n",
        "Дана точка с целыми ненулевыми координатами (x;y). Определить номер четверти координатной плоскости, которой она принадлежит."
      ],
      "execution_count": null,
      "outputs": []
    },
    {
      "cell_type": "code",
      "metadata": {
        "colab": {
          "base_uri": "https://localhost:8080/"
        },
        "id": "QPHdD6YeoQug",
        "outputId": "7305451c-e8e8-4419-81a4-086eb0cf1c9d"
      },
      "source": [
        "# Программирование на языке высокого уровня (Python).\n",
        "# https://www.yuripetrov.ru/edu/python\n",
        "# Задание task_04_02_05.\n",
        "#\n",
        "# Выполнил: Шведова Софья Сергеевна\n",
        "# Группа: АДЭУ-211\n",
        "# E-mail: shvedova_sofiya23@mail.ru\n",
        "\n",
        "\n",
        "x = int(input(\"Введите координату х:\"))\n",
        "y = int(input(\"Введите координату y:\"))\n",
        "\n",
        "if x > 0 and y > 0:\n",
        "    print(\"1-я четверть\")\n",
        "elif x > 0 and y < 0:\n",
        "    print(\"4-я четверть\")\n",
        "elif x < 0 and y > 0:\n",
        "    print(\"2-я четверть\")\n",
        "elif x < 0 and y < 0:\n",
        "    print(\"3-а четверть\")\n",
        "else:\n",
        "    print(\"Упс, нужно ввести ненулевое значение х и y =)\")"
      ],
      "execution_count": 23,
      "outputs": [
        {
          "output_type": "stream",
          "name": "stdout",
          "text": [
            "Введите координату х:5\n",
            "Введите координату y:-7\n",
            "4-я четверть\n"
          ]
        }
      ]
    },
    {
      "cell_type": "code",
      "metadata": {
        "id": "5H_raVo_nx14"
      },
      "source": [
        "№ 4.2.6\n",
        "\n",
        "Даны вещественные числа , ,  ().\n",
        "\n",
        "Решите уравнение . При выводе значений оставьте 1 знак после запятой."
      ],
      "execution_count": null,
      "outputs": []
    },
    {
      "cell_type": "code",
      "metadata": {
        "colab": {
          "base_uri": "https://localhost:8080/"
        },
        "id": "7Ts6WU68nyXz",
        "outputId": "becccf94-0091-4a9e-9255-8400bb3acff6"
      },
      "source": [
        "# Программирование на языке высокого уровня (Python).\n",
        "# https://www.yuripetrov.ru/edu/python\n",
        "# Задание task_04_02_06.\n",
        "#\n",
        "# Выполнил: Шведова Софья Сергеевна\n",
        "# Группа: АДЭУ-211\n",
        "# E-mail: shvedova_sofiya23@mail.ru\n",
        "\n",
        "\n",
        "a = int(input(\"Введите число a: \"))\n",
        "b = int(input(\"Введите число b: \"))\n",
        "c = int(input(\"Введите число c: \"))\n",
        "\n",
        "\n",
        "# Расчет дискриминанта\n",
        "discriminant = b**2 - 4*a*c\n",
        "if discriminant >0:\n",
        "    x1 = (-b + discriminant**0.5) / (2 * a) # нахождение 1 корня\n",
        "    x2 = (-b - discriminant**0.5) / (2 * a) # нахождение 2 корня\n",
        "    print(\"x1 =\", round(x1, 1),\",\", \"x2 =\", round(x2, 1)) # округление  с одним знаком после запятой\n",
        "\n",
        "elif discriminant == 0:\n",
        "  x = (b**2)/(2*a) # расчет корня, если дискриминант равен 0\n",
        "  print(\"x1 =\", round(x, 1)) # округление до 1 знака после запятой\n",
        "\n",
        "else:\n",
        "  print(\"Решения нет\")\n",
        "\n"
      ],
      "execution_count": 27,
      "outputs": [
        {
          "output_type": "stream",
          "name": "stdout",
          "text": [
            "Введите число a: -3\n",
            "Введите число b: 1\n",
            "Введите число c: 6\n",
            "x1 = -1.3 , x2 = 1.6\n"
          ]
        }
      ]
    },
    {
      "cell_type": "code",
      "metadata": {
        "id": "O7VSAHtzvzgh"
      },
      "source": [
        "№ 4.2.7\n",
        "\n",
        "Дана непустая последовательность целых чисел, оканчивающаяся нулем. Найти сумму и количество введенных чисел."
      ],
      "execution_count": null,
      "outputs": []
    },
    {
      "cell_type": "code",
      "metadata": {
        "colab": {
          "base_uri": "https://localhost:8080/"
        },
        "id": "noZ_s-iYwQZ-",
        "outputId": "2542c912-2483-42f7-81f9-10903749a50d"
      },
      "source": [
        "\n",
        "# Программирование на языке высокого уровня (Python).\n",
        "# https://www.yuripetrov.ru/edu/python\n",
        "# Задание task_04_02_07.\n",
        "#\n",
        "# Выполнил: Шведова Софья Сергеевна\n",
        "# Группа: АДЭУ-211\n",
        "# E-mail: shvedova_sofiya23@mail.ru\n",
        "\n",
        "x = int(input(\"Введите число: \"))\n",
        "nums_sum = nums_count = 0\n",
        "\n",
        "\n",
        "while x != 0: # выполнять действие, пока x не будет равен 0\n",
        "   nums_sum += x # прибавление каждого х в последовательности\n",
        "   nums_count += 1 # увеличение количества чисел на 1\n",
        "   x = int(input())\n",
        "\n",
        "print('Сумма чисел - ', nums_sum, 'количество чисел - ', nums_count)\n",
        "\n"
      ],
      "execution_count": 28,
      "outputs": [
        {
          "output_type": "stream",
          "name": "stdout",
          "text": [
            "Введите число: 34\n",
            "5\n",
            "0\n",
            "Сумма чисел -  39 количество чисел -  2\n"
          ]
        }
      ]
    },
    {
      "cell_type": "code",
      "metadata": {
        "id": "UOx32GVaFK6b"
      },
      "source": [
        "№ 4.2.8\n",
        "\n",
        "Дано число n. Из чисел 5,10,15,20,25,... напечатать те, которые не превышают n."
      ],
      "execution_count": null,
      "outputs": []
    },
    {
      "cell_type": "code",
      "metadata": {
        "colab": {
          "base_uri": "https://localhost:8080/"
        },
        "id": "Lnupl2b0B2zY",
        "outputId": "93f0dbb6-ba69-483a-802c-139a23b2fa1a"
      },
      "source": [
        "# Программирование на языке высокого уровня (Python).\n",
        "# https://www.yuripetrov.ru/edu/python\n",
        "# Задание task_04_02_08.\n",
        "#\n",
        "# Выполнил: Шведова Софья Сергеевна\n",
        "# Группа: АДЭУ-211\n",
        "# E-mail: shvedova_sofiya23@mail.ru\n",
        "\n",
        "\n",
        "\n",
        "n = int(input(\"Ввести число n: \"))\n",
        "a = 0\n",
        "d = 5\n",
        "while a < n:\n",
        "    a = a + 5\n",
        "    print(a)\n",
        "\n"
      ],
      "execution_count": 31,
      "outputs": [
        {
          "output_type": "stream",
          "name": "stdout",
          "text": [
            "Ввести число n: 15\n",
            "5\n",
            "10\n",
            "15\n"
          ]
        }
      ]
    },
    {
      "cell_type": "code",
      "metadata": {
        "id": "Km1Yzg18JcDe"
      },
      "source": [
        "№ 4.2.10\n",
        "\n",
        "Дано натуральное число. Определите сумму и количество его цифр."
      ],
      "execution_count": null,
      "outputs": []
    },
    {
      "cell_type": "code",
      "metadata": {
        "colab": {
          "base_uri": "https://localhost:8080/"
        },
        "id": "Da27vEtlJz-I",
        "outputId": "48e10f5b-5cb8-47df-eed8-33c381565369"
      },
      "source": [
        "# Программирование на языке высокого уровня (Python).\n",
        "# https://www.yuripetrov.ru/edu/python\n",
        "# Задание task_04_02_10.\n",
        "#\n",
        "# Выполнил: Шведова Софья Сергеевна\n",
        "# Группа: АДЭУ-211\n",
        "# E-mail: shvedova_sofiya23@mail.ru\n",
        "\n",
        "n = int(input(\"Введите натуральное число n: \"))\n",
        "\n",
        "n_sum = 0\n",
        "n_count = 0\n",
        "\n",
        "while (n > 0): # пока n больше нуля выполнять действие\n",
        "    a = n % 10 #  остаток от деления\n",
        "    n = n // 10 # без остатка от деления (целочисленное)\n",
        "    n_sum += a\n",
        "    n_count = n_count + 1\n",
        "print(\"Сумма цифр числа равна: \", n_sum)\n",
        "print(\"Количество цифр равно:\", n_count)\n"
      ],
      "execution_count": 32,
      "outputs": [
        {
          "output_type": "stream",
          "name": "stdout",
          "text": [
            "Введите натуральное число n: 35\n",
            "Сумма цифр числа равна:  8\n",
            "Количество цифр равно: 2\n"
          ]
        }
      ]
    },
    {
      "cell_type": "code",
      "metadata": {
        "id": "D-9_U74G6eiI"
      },
      "source": [
        "№ 4.2.13\n",
        "\n",
        "Для введенных с клавиатуры положительных целых чисел  и  () определите:\n",
        "\n",
        "сумму всех целых чисел от  до ;\n",
        "\n",
        "произведение всех целых чисел от  до ;\n",
        "\n",
        "среднее арифметическое всех целых чисел от  до ;\n",
        "\n",
        "среднее геометрическое нечетных чисел от  до .\n",
        "\n",
        "Отрезок поиска включает сами числа  и . При выводе вещественных результатов оставьте два знака после запятой."
      ],
      "execution_count": null,
      "outputs": []
    },
    {
      "cell_type": "code",
      "metadata": {
        "id": "sKFbDclq6YD0",
        "outputId": "ae431740-beda-4b07-c8de-bce74584542d",
        "colab": {
          "base_uri": "https://localhost:8080/"
        }
      },
      "source": [
        "\n",
        "# Программирование на языке высокого уровня (Python).\n",
        "# https://www.yuripetrov.ru/edu/python\n",
        "# Задание task_04_02_13.\n",
        "#\n",
        "# Выполнил: Шведова Софья Сергеевна\n",
        "# Группа: АДЭУ-211\n",
        "# E-mail: shvedova_sofiya23@mail.ru\n",
        "\n",
        "\n",
        "a = int(input(\"Введите число а: \"))\n",
        "b = int(input(\"Введите число b: \"))\n",
        "\n",
        "n_sum = 0\n",
        "n_mult = 1\n",
        "n_mult_1 = 1\n",
        "if b>a:\n",
        "  for i in range(a, b+1): # i записывает в себе промежуток от а до b+1, чтобы для этих чисел выполнялись арифметические действия\n",
        "    n_sum += i\n",
        "    n_mult  *=i\n",
        "    n_avg = (n_sum/(b+1-a))\n",
        "    if i%2 == 1: # если число делится на 2 с остатком 1 (нечетное число)\n",
        "      n_mult_1 *= i\n",
        "      n_avg_geom = round((n_mult_1**0.5), 2) # округление до двух знаков после запятой\n",
        "else:\n",
        "  print(\"Введите такие а и b, чтобы a<b\")\n",
        "\n",
        "print(\"Сумма =\", n_sum)\n",
        "print(\"Произведение =\", n_mult)\n",
        "print(\"Среднее арифметическое = \", n_avg)\n",
        "print(\"Среднее геометрическое нечетных чисел = \", n_avg_geom)\n",
        "\n"
      ],
      "execution_count": 33,
      "outputs": [
        {
          "output_type": "stream",
          "name": "stdout",
          "text": [
            "Введите число а: 2\n",
            "Введите число b: 7\n",
            "Сумма = 27\n",
            "Произведение = 5040\n",
            "Среднее арифметическое =  4.5\n",
            "Среднее геометрическое нечетных чисел =  10.25\n"
          ]
        }
      ]
    },
    {
      "cell_type": "code",
      "metadata": {
        "id": "4IkwRS346i8f"
      },
      "source": [
        "№ 4.2.14\n",
        "\n",
        "Начав тренировки, лыжник в первый день пробежал  км. (, вещественное число). Каждый следующий день он увеличивал пробег на  % (, вещественное число) от пробега предыдущего дня. Определите:\n",
        "\n",
        "пробег лыжника за второй, третий, …, десятый день тренировок;\n",
        "\n",
        "какой суммарный путь он пробежал за первые 10 дней тренировок.\n",
        "\n",
        "При выводе вещественных результатов оставьте один знак после запятой."
      ],
      "execution_count": null,
      "outputs": []
    },
    {
      "cell_type": "code",
      "metadata": {
        "id": "cxZAYF9c6Y-w",
        "outputId": "41bba105-9ad9-4ab7-a28a-03312755bf4c",
        "colab": {
          "base_uri": "https://localhost:8080/"
        }
      },
      "source": [
        "# Программирование на языке высокого уровня (Python).\n",
        "# https://www.yuripetrov.ru/edu/python\n",
        "# Задание task_04_02_14.\n",
        "#\n",
        "# Выполнил: Шведова Софья Сергеевна\n",
        "# Группа: АДЭУ-211\n",
        "# E-mail: shvedova_sofiya23@mail.ru\n",
        "\n",
        "\n",
        "s = int(input(\"Введите число s: \"))\n",
        "p = int(input(\"Введите число p: \"))\n",
        "n = 1\n",
        "total = s\n",
        "for i in range(n, n+10): # range - количество повторений\n",
        "  i = s*(p/100)\n",
        "  print(\"Пробег составляет\",total,\"км в\", n, \"день\".format(i))\n",
        "  total += i\n",
        "  n = n + 1\n",
        "\n",
        "print(\"Суммарный пробег: {:.1f} км.\".format(total))\n"
      ],
      "execution_count": 3,
      "outputs": [
        {
          "output_type": "stream",
          "name": "stdout",
          "text": [
            "Введите число s: 4\n",
            "Введите число p: 1\n",
            "Пробег составляет 4 км в 1 день\n",
            "Пробег составляет 4.04 км в 2 день\n",
            "Пробег составляет 4.08 км в 3 день\n",
            "Пробег составляет 4.12 км в 4 день\n",
            "Пробег составляет 4.16 км в 5 день\n",
            "Пробег составляет 4.2 км в 6 день\n",
            "Пробег составляет 4.24 км в 7 день\n",
            "Пробег составляет 4.28 км в 8 день\n",
            "Пробег составляет 4.32 км в 9 день\n",
            "Пробег составляет 4.36 км в 10 день\n",
            "Суммарный пробег: 4.4 км.\n"
          ]
        }
      ]
    },
    {
      "cell_type": "code",
      "metadata": {
        "id": "fR8BHWsQk_GU"
      },
      "source": [
        "№ 4.2.15\n",
        "\n",
        "Известна масса каждого предмета в кг., загружаемого в грузовик. Определить, возможна ли перевозка груза, если \n",
        "грузоподъемность грузовика равна p кг."
      ],
      "execution_count": null,
      "outputs": []
    },
    {
      "cell_type": "code",
      "metadata": {
        "colab": {
          "base_uri": "https://localhost:8080/"
        },
        "id": "WWtVocdRn9q8",
        "outputId": "17a17029-a925-48aa-a7c6-79fe50bb50b9"
      },
      "source": [
        "# Программирование на языке высокого уровня (Python).\n",
        "# https://www.yuripetrov.ru/edu/python\n",
        "# Задание task_04_02_15.\n",
        "#\n",
        "# Выполнил: Шведова Софья Сергеевна\n",
        "# Группа: АДЭУ-211\n",
        "# E-mail: shvedova_sofiya23@mail.ru\n",
        "\n",
        "\n",
        "\n",
        "p = int(input(\"Грузоподъемность грузовика:\"))\n",
        "n = int(input(\"Количество предметов:\"))\n",
        "e_sum = 0\n",
        "while n != 0: # пока n не станет равно 0\n",
        "  n = n-1\n",
        "  e = int(input(\"Масса {} груза - \".format(n)))\n",
        "  e_sum += e\n",
        "\n",
        "\n",
        "if e_sum <= p:\n",
        "  print(\"Да, перегрузка груза возможна\")\n",
        "else:\n",
        "  print(\"Нет, перегрузка груза невозможна\")\n"
      ],
      "execution_count": 34,
      "outputs": [
        {
          "output_type": "stream",
          "name": "stdout",
          "text": [
            "Грузоподъемность грузовика:3\n",
            "Количество предметов:2\n",
            "Масса 1 груза - 1\n",
            "Масса 0 груза - 2\n",
            "Да, перегрузка груза возможна\n"
          ]
        }
      ]
    },
    {
      "cell_type": "code",
      "metadata": {
        "id": "CKZbkER2FphO"
      },
      "source": [
        "№ 4.2.16\n",
        "\n",
        "В области несколько районов. Заданы площади, засеваемые пшеницей (га.), и средняя урожайность (ц/га) в каждом районе.\n",
        "\n",
        "Определите количество пшеницы, собранное по области. При выводе вещественных результатов оставьте один знак после запятой."
      ],
      "execution_count": null,
      "outputs": []
    },
    {
      "cell_type": "code",
      "metadata": {
        "colab": {
          "base_uri": "https://localhost:8080/"
        },
        "id": "A6cR4N9yFp82",
        "outputId": "23f559fb-17c7-4420-bc8f-a10c07dc488f"
      },
      "source": [
        "# Программирование на языке высокого уровня (Python).\n",
        "# https://www.yuripetrov.ru/edu/python\n",
        "# Задание task_04_02_16.\n",
        "#\n",
        "# Выполнил: Шведова Софья Сергеевна\n",
        "# Группа: АДЭУ-211\n",
        "# E-mail: shvedova_sofiya23@mail.ru\n",
        "\n",
        "\n",
        "\n",
        "n = int(input(\"Количество районов:\"))\n",
        "k = 0\n",
        "while n != 0: # пока n не станет равно 0\n",
        "  e = float(input(\"Урожайность в {} районе - \".format(n))) # .format - вывод в строке\n",
        "  l = int(input(\"Площадь {} района - \".format(n)))\n",
        "  n = n-1\n",
        "  k += e\n",
        "print(\"Собрано пшеницы: \" + \"%.1f\" %round(k,1) + \" га\")  # %1.f - выводило в строчку, %round(k,1) - округление с одним знаком после запятой"
      ],
      "execution_count": 35,
      "outputs": [
        {
          "output_type": "stream",
          "name": "stdout",
          "text": [
            "Количество районов:3\n",
            "Урожайность в 3 районе - 1\n",
            "Площадь 3 района - 2\n",
            "Урожайность в 2 районе - 3\n",
            "Площадь 2 района - 3\n",
            "Урожайность в 1 районе - 4\n",
            "Площадь 1 района - 2\n",
            "Собрано пшеницы: 8.0 га\n"
          ]
        }
      ]
    },
    {
      "cell_type": "code",
      "metadata": {
        "id": "qbHz6rkXSP9Z"
      },
      "source": [
        "№ 4.2.17\n",
        "\n",
        "Решите задачу № 4.2.7, организовав бесконечный цикл, который бы прерывался при выполнении условия, используя оператор break."
      ],
      "execution_count": null,
      "outputs": []
    },
    {
      "cell_type": "code",
      "metadata": {
        "id": "fD572FN6Spji",
        "colab": {
          "base_uri": "https://localhost:8080/"
        },
        "outputId": "d4518120-6d8c-4eb4-c494-22e8f9df88f4"
      },
      "source": [
        "# Программирование на языке высокого уровня (Python).\n",
        "# https://www.yuripetrov.ru/edu/python\n",
        "# Задание task_04_02_17.\n",
        "#\n",
        "# Выполнил: Шведова Софья Сергеевна\n",
        "# Группа: АДЭУ-211\n",
        "# E-mail: shvedova_sofiya23@mail.ru\n",
        "\n",
        "x = int(input(\"Введите число: \"))\n",
        "nums_sum = nums_count = 0\n",
        "\n",
        "\n",
        "while x:\n",
        "  nums_sum += x\n",
        "  nums_count += 1\n",
        "  x = int(input())\n",
        "  if x == 0: # если х равен 0\n",
        "    break # закончить цикл\n",
        "\n",
        "print('Сумма чисел - ', nums_sum, 'количество чисел - ', nums_count)"
      ],
      "execution_count": 36,
      "outputs": [
        {
          "output_type": "stream",
          "name": "stdout",
          "text": [
            "Введите число: 2\n",
            "4\n",
            "6\n",
            "0\n",
            "Сумма чисел -  12 количество чисел -  3\n"
          ]
        }
      ]
    },
    {
      "cell_type": "code",
      "metadata": {
        "id": "Wy_r_6RdV64r"
      },
      "source": [
        "№ 4.2.18\n",
        "\n",
        "Предложение, введенное с клавиатуры, содержит слова из гласных и согласных букв кириллицы (регистр может быть различный), а также пробелы.\n",
        "\n",
        "Определите количество гласных и согласных букв в предложении."
      ],
      "execution_count": null,
      "outputs": []
    },
    {
      "cell_type": "code",
      "metadata": {
        "colab": {
          "base_uri": "https://localhost:8080/"
        },
        "id": "j5e3OLvuWHXO",
        "outputId": "d0d97281-0865-4e79-a982-a8c015a06700"
      },
      "source": [
        "# Программирование на языке высокого уровня (Python).\n",
        "# https://www.yuripetrov.ru/edu/python\n",
        "# Задание task_04_02_18.\n",
        "#\n",
        "# Выполнил: Шведова Софья Сергеевна\n",
        "# Группа: АДЭУ-211\n",
        "# E-mail: shvedova_sofiya23@mail.ru\n",
        "\n",
        "\n",
        "sentence = input(\"Введите предложение: \")\n",
        "\n",
        "count_gl = 10  # Кол-во гласных\n",
        "count_sogl = 21 # Кол-во согласных\n",
        "a = sum(1 for _ in sentence if _ in 'ауоыиэяюёе') # ищет в предложении гласные буквы, то есть прибавление одного для переменной sentence, если есть буквы \"ауоыиэяюёе\"\n",
        "b = sum(1 for _ in sentence if _ in 'бвгджзйклмнпрстфхцчшщ') # ищет в предложении согласные буквы,то есть прибавление одного для переменной sentence, если есть буквы 'бвгджзйклмнпрстфхцчшщ'\n",
        "print('Количество гласных букв равно', a)\n",
        "print('Количество согласных букв равно', b)\n"
      ],
      "execution_count": 37,
      "outputs": [
        {
          "output_type": "stream",
          "name": "stdout",
          "text": [
            "Введите предложение: великий ум\n",
            "Количество гласных букв равно 4\n",
            "Количество согласных букв равно 5\n"
          ]
        }
      ]
    },
    {
      "cell_type": "code",
      "metadata": {
        "id": "rmYAc0jIiqUm"
      },
      "source": [
        "№ 4.2.19\n",
        "\n",
        "Выведите на экран (в строку) все целые числа от a до b, кратные некоторому числу c."
      ],
      "execution_count": null,
      "outputs": []
    },
    {
      "cell_type": "code",
      "metadata": {
        "colab": {
          "base_uri": "https://localhost:8080/"
        },
        "id": "577tpXAHivNN",
        "outputId": "03ed21be-4a74-4c85-8f58-5e8e3ced3f97"
      },
      "source": [
        "# Программирование на языке высокого уровня (Python).\n",
        "# https://www.yuripetrov.ru/edu/python\n",
        "# Задание task_04_02_19.\n",
        "#\n",
        "# Выполнил: Шведова Софья Сергеевна\n",
        "# Группа: АДЭУ-211\n",
        "# E-mail: shvedova_sofiya23@mail.ru\n",
        "\n",
        "\n",
        "a = int(input(\"Введите число а: \"))\n",
        "b = int(input(\"Введите число b: \"))\n",
        "c = int(input(\"Введите число c: \"))\n",
        "n = 0\n",
        "\n",
        "for i in range(a, b+1): # range - количество повторений\n",
        "  if not i % c: # остаток от деления\n",
        "    n = n + 1\n",
        "    print(i, end=' ') # вывод в строку"
      ],
      "execution_count": 40,
      "outputs": [
        {
          "output_type": "stream",
          "name": "stdout",
          "text": [
            "Введите число а: 3\n",
            "Введите число b: 7\n",
            "Введите число c: 2\n",
            "4 6 "
          ]
        }
      ]
    },
    {
      "cell_type": "code",
      "metadata": {
        "id": "Fz4QSRu0oi5K"
      },
      "source": [
        "№ 4.2.21\n",
        "\n",
        "Известно количество учеников в классе и их рост (см.); рост мальчиков условно задан отрицательными числами. Определите средний рост мальчиков и средний рост девочек.\n",
        "\n",
        "При выводе вещественных результатов оставьте один знак после запятой."
      ],
      "execution_count": null,
      "outputs": []
    },
    {
      "cell_type": "code",
      "metadata": {
        "colab": {
          "base_uri": "https://localhost:8080/"
        },
        "id": "iNbftWA2lXWj",
        "outputId": "c0ae86ca-f31c-4f58-e2c3-cfe7818b6a70"
      },
      "source": [
        "# Программирование на языке высокого уровня (Python).\n",
        "# https://www.yuripetrov.ru/edu/python\n",
        "# Задание task_04_02_21.\n",
        "#\n",
        "# Выполнил: Шведова Софья Сергеевна\n",
        "# Группа: АДЭУ-211\n",
        "# E-mail: shvedova_sofiya23@mail.ru\n",
        "\n",
        "\n",
        "\n",
        "n = int(input(\"Количество учеников в классе: \"))\n",
        "r_sr_m = 0.0\n",
        "r_sr_d = 0.0\n",
        "lol=1 # нужно для того, чтобы учесть рост всех учеников в классе\n",
        "mama=0 # количество учеников мальчиков\n",
        "while lol <=n: # пока количество учеников не будет равно переменной lol продолжать цикл, чтобы учесть рост всех учеников\n",
        "    a = int(input(\"Рост \"+ str(lol) + \"-го ученика = \")) # str - в строчку записать\n",
        "    lol+=1\n",
        "    if a <0 : # если рост меньше 0, то записать в рост мальчиков\n",
        "        mama+=1\n",
        "        r_sr_m -= a # отнять от роста мальчиков \n",
        "    else: # если рост больше 0, то записать в рост девочек\n",
        "        r_sr_d += a # прибавить к росту девочек\n",
        "r_m= r_sr_m /(mama)\n",
        "r_d = r_sr_d / (n - mama)\n",
        "print('Cредний рост мальчиков: {:.1f}\\nCредний рост девочек: {:.1f}'.format(r_m, r_d))\n"
      ],
      "execution_count": 41,
      "outputs": [
        {
          "output_type": "stream",
          "name": "stdout",
          "text": [
            "Количество учеников в классе: 3\n",
            "Рост 1-го ученика = 165\n",
            "Рост 2-го ученика = -180\n",
            "Рост 3-го ученика = 190\n",
            "Cредний рост мальчиков: 180.0\n",
            "Cредний рост девочек: 177.5\n"
          ]
        }
      ]
    },
    {
      "cell_type": "code",
      "metadata": {
        "id": "LtX37Lqrahxk"
      },
      "source": [
        "№ 4.2.25\n",
        "\n",
        "Выведите на экран таблицу умножения на n (2<n≤9) в виде:\n",
        "\n",
        "1 х 1 = 1     1 х 2 = 2      ...   1 х n = ...\n",
        "2 х 1 = 2     2 х 2 = 4      ...   2 х n = ...\n",
        "...           ...            ...   ...\n",
        "n х 1 = ...   n х 2 = ...    ...   n х n = ..."
      ],
      "execution_count": null,
      "outputs": []
    },
    {
      "cell_type": "code",
      "metadata": {
        "colab": {
          "base_uri": "https://localhost:8080/"
        },
        "id": "L9h82mMky0h7",
        "outputId": "6f774ffb-c6d5-4f7b-baca-65f9d8dd4ec2"
      },
      "source": [
        "# Программирование на языке высокого уровня (Python).\n",
        "# https://www.yuripetrov.ru/edu/python\n",
        "# Задание task_04_02_25.\n",
        "#\n",
        "# Выполнил: Шведова Софья Сергеевна\n",
        "# Группа: АДЭУ-211\n",
        "# E-mail: shvedova_sofiya23@mail.ru\n",
        "\n",
        "\n",
        "\n",
        "\n",
        "n = int(input(\"Введите число: \"))\n",
        "i = 1\n",
        "if 2<n<=19:\n",
        "  while i <= n: # пока переменная j (1 множитель) не станет меньше числа, то выполнять умножение\n",
        "      j = 1\n",
        "      while j <= n: # пока переменная j (2 множитель) не станет меньше числа, то выполнять умножение\n",
        "          print(i, \"x\", j,  \"=\",  i*j, end=\"\\t\") # \\t - вывод с новой строки\n",
        "          j += 1 # переход к следующему числу 2 множителя\n",
        "      i += 1 # переход к следующему числу 1 множителя\n",
        "      print()\n",
        "else:\n",
        "  print(\"Введите число, которое меньше или равно 19 и больше 2\")"
      ],
      "execution_count": 43,
      "outputs": [
        {
          "output_type": "stream",
          "name": "stdout",
          "text": [
            "Введите число: 6\n",
            "1 x 1 = 1\t1 x 2 = 2\t1 x 3 = 3\t1 x 4 = 4\t1 x 5 = 5\t1 x 6 = 6\t\n",
            "2 x 1 = 2\t2 x 2 = 4\t2 x 3 = 6\t2 x 4 = 8\t2 x 5 = 10\t2 x 6 = 12\t\n",
            "3 x 1 = 3\t3 x 2 = 6\t3 x 3 = 9\t3 x 4 = 12\t3 x 5 = 15\t3 x 6 = 18\t\n",
            "4 x 1 = 4\t4 x 2 = 8\t4 x 3 = 12\t4 x 4 = 16\t4 x 5 = 20\t4 x 6 = 24\t\n",
            "5 x 1 = 5\t5 x 2 = 10\t5 x 3 = 15\t5 x 4 = 20\t5 x 5 = 25\t5 x 6 = 30\t\n",
            "6 x 1 = 6\t6 x 2 = 12\t6 x 3 = 18\t6 x 4 = 24\t6 x 5 = 30\t6 x 6 = 36\t\n"
          ]
        }
      ]
    },
    {
      "cell_type": "code",
      "metadata": {
        "id": "SgMh3-yabTqu"
      },
      "source": [
        "№ 4.2.26\n",
        "\n",
        "Выведите графическое изображения делимости чисел от 1 до  (значение  вводится с клавиатуры) - в каждой строке напечатайте очередное число и столько символов *, сколько делителей у этого числа.\n",
        "\n",
        "Например, если , на экране должно быть напечатано:\n",
        "\n",
        "1 *\n",
        "2 **\n",
        "3 **\n",
        "4 ***"
      ],
      "execution_count": null,
      "outputs": []
    },
    {
      "cell_type": "code",
      "metadata": {
        "colab": {
          "base_uri": "https://localhost:8080/"
        },
        "id": "xXsPZ8VUbZjT",
        "outputId": "fa1a4883-85c8-4355-9f48-ea7a6805866e"
      },
      "source": [
        "# Программирование на языке высокого уровня (Python).\n",
        "# https://www.yuripetrov.ru/edu/python\n",
        "# Задание task_04_02_26.\n",
        "#\n",
        "# Выполнил: Шведова Софья Сергеевна\n",
        "# Группа: АДЭУ-211\n",
        "# E-mail: shvedova_sofiya23@mail.ru\n",
        "\n",
        "\n",
        "\n",
        "\n",
        "n = int(input(\"Введите число n: \"))\n",
        "deliteli = 0\n",
        "\n",
        "\n",
        "for lol in range(1, int(n)+1): # диапазон, чтобы n было целочисленным числом\n",
        "    for kek in range(1, lol+1): # выполнить для всех чисел в диапазоне\n",
        "        if lol % kek == 0: # остаток от деления\n",
        "            deliteli += 1\n",
        "    print(lol, deliteli * \"*\")\n",
        "    deliteli = 0\n"
      ],
      "execution_count": 45,
      "outputs": [
        {
          "output_type": "stream",
          "name": "stdout",
          "text": [
            "Введите число n: 9\n",
            "1 *\n",
            "2 **\n",
            "3 **\n",
            "4 ***\n",
            "5 **\n",
            "6 ****\n",
            "7 **\n",
            "8 ****\n",
            "9 ***\n"
          ]
        }
      ]
    },
    {
      "cell_type": "code",
      "metadata": {
        "id": "Zrqw85M0egak"
      },
      "source": [
        "№ 4.2.27\n",
        "\n",
        "Выведите на экран (в строку) n первых простых чисел."
      ],
      "execution_count": null,
      "outputs": []
    },
    {
      "cell_type": "code",
      "metadata": {
        "colab": {
          "base_uri": "https://localhost:8080/"
        },
        "id": "WtZbPyaWf3mA",
        "outputId": "00a5e0b5-dfa6-45ff-cc2f-cf11f5b0d071"
      },
      "source": [
        "# Программирование на языке высокого уровня (Python).\n",
        "# https://www.yuripetrov.ru/edu/python\n",
        "# Задание task_04_02_27.\n",
        "#\n",
        "# Выполнил: Шведова Софья Сергеевна\n",
        "# Группа: АДЭУ-211\n",
        "# E-mail: shvedova_sofiya23@mail.ru\n",
        "\n",
        "\n",
        "\n",
        "n = int(input(\"Введите число n: \"))\n",
        "mina=2 # переменная нужна для того, чтобы проверить делимость числа на начальное значение 2\n",
        "play = 0 # нужна для того, чтобы выполнялось действие, пока не найдутся все числа последовательности\n",
        "print()\n",
        "print(\"Первые n простых чисел: \")\n",
        "while (play < n):\n",
        "    if all(mina % kek!= 0 for kek in range(2, mina)): # all - для всех элементов в последовательности, то есть число простое, если не делится ни на какое другое простое число\n",
        "        print(mina,end=\" \")\n",
        "        play +=1 # проверка следующего числа\n",
        "    mina+=1 # проверка числа на наличие следующего делителя\n",
        "\n"
      ],
      "execution_count": 53,
      "outputs": [
        {
          "output_type": "stream",
          "name": "stdout",
          "text": [
            "Введите число n: 19\n",
            "\n",
            "Первые n простых чисел: \n",
            "2 3 5 7 11 13 17 19 23 29 31 37 41 43 47 53 59 61 67 "
          ]
        }
      ]
    },
    {
      "cell_type": "code",
      "metadata": {
        "id": "bBUSgiTSiBdG"
      },
      "source": [
        "№ 4.2.28\n",
        "\n",
        "Составьте программу для нахождения всех натуральных решений уравнения , где , а  вводится с клавиатуры."
      ],
      "execution_count": null,
      "outputs": []
    },
    {
      "cell_type": "code",
      "metadata": {
        "colab": {
          "base_uri": "https://localhost:8080/"
        },
        "id": "BRq12hahiFO-",
        "outputId": "9550a962-90d9-467e-9ab5-d05cb525d0a9"
      },
      "source": [
        "# Программирование на языке высокого уровня (Python).\n",
        "# https://www.yuripetrov.ru/edu/python\n",
        "# Задание task_04_02_28.\n",
        "#\n",
        "# Выполнил: Шведова Софья Сергеевна\n",
        "# Группа: АДЭУ-211\n",
        "# E-mail: shvedova_sofiya23@mail.ru\n",
        "\n",
        "\n",
        "k = int(input(\"Введите число k: \"))\n",
        "for x in range(1, 31): # так как по условию х не больше 30 и не меньше 1\n",
        "    for y in range(1, 31): # так как по условию y не больше 30 и не меньше 1\n",
        "        for z in range(1, 31): # так как по условию z не больше 30 и не меньше 1\n",
        "            if x*x + y*y + z*z == k*k: # если результат перемножения х, у и z = k, то вывести на экран\n",
        "                print('x =',x,\",\",'y =',y,\",\",'z =',z)"
      ],
      "execution_count": 57,
      "outputs": [
        {
          "output_type": "stream",
          "name": "stdout",
          "text": [
            "Введите число k: 25\n",
            "x = 9 , y = 12 , z = 20\n",
            "x = 9 , y = 20 , z = 12\n",
            "x = 12 , y = 9 , z = 20\n",
            "x = 12 , y = 15 , z = 16\n",
            "x = 12 , y = 16 , z = 15\n",
            "x = 12 , y = 20 , z = 9\n",
            "x = 15 , y = 12 , z = 16\n",
            "x = 15 , y = 16 , z = 12\n",
            "x = 16 , y = 12 , z = 15\n",
            "x = 16 , y = 15 , z = 12\n",
            "x = 20 , y = 9 , z = 12\n",
            "x = 20 , y = 12 , z = 9\n"
          ]
        }
      ]
    }
  ]
}