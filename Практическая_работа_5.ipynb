{
  "nbformat": 4,
  "nbformat_minor": 0,
  "metadata": {
    "colab": {
      "name": "Практическая работа 5.ipynb",
      "provenance": [],
      "authorship_tag": "ABX9TyOAqn7xtC2MwV2KMiRdwxam",
      "include_colab_link": true
    },
    "kernelspec": {
      "name": "python3",
      "display_name": "Python 3"
    },
    "language_info": {
      "name": "python"
    }
  },
  "cells": [
    {
      "cell_type": "markdown",
      "metadata": {
        "id": "view-in-github",
        "colab_type": "text"
      },
      "source": [
        "<a href=\"https://colab.research.google.com/github/SofiaShvedova/ShvedovaSS/blob/main/%D0%9F%D1%80%D0%B0%D0%BA%D1%82%D0%B8%D1%87%D0%B5%D1%81%D0%BA%D0%B0%D1%8F_%D1%80%D0%B0%D0%B1%D0%BE%D1%82%D0%B0_5.ipynb\" target=\"_parent\"><img src=\"https://colab.research.google.com/assets/colab-badge.svg\" alt=\"Open In Colab\"/></a>"
      ]
    },
    {
      "cell_type": "code",
      "metadata": {
        "colab": {
          "base_uri": "https://localhost:8080/",
          "height": 128
        },
        "id": "ulwKifZKlXnR",
        "outputId": "211271dc-f700-405d-909e-4882d9b044e5"
      },
      "source": [
        "# Задание 1\n",
        "\n",
        "class Square:\n",
        "  def __init__(self,squares,length,width):\n",
        "    self.squares = squares\n",
        "    self.length = length\n",
        "    self.width = width\n",
        "  \n",
        "\n",
        "  def roll(self):\n",
        "    return round(self.squares/(self.length * self.width))\n",
        "  def __str__(self):\n",
        "    return (\"Площадь под оклейку: {}, длина 1 рулона: {}, ширина 1 рулона: {}\\nСколько рулонов потребуется: {}\".format(self.squares,self.length,self.width, self.roll())\n",
        "\n",
        "a = Square(\"\",\"\",\"\")\n",
        "a.squares = int(input(\"Введите площадь: \"))\n",
        "a.length = int(input(\"Введите длину 1 рулона: \"))\n",
        "a.width = int(input(\"Введите ширину 1 рулона: \"))\n",
        "print(a)"
      ],
      "execution_count": 8,
      "outputs": [
        {
          "output_type": "error",
          "ename": "SyntaxError",
          "evalue": "ignored",
          "traceback": [
            "\u001b[0;36m  File \u001b[0;32m\"<ipython-input-8-6cd2d41ae53a>\"\u001b[0;36m, line \u001b[0;32m15\u001b[0m\n\u001b[0;31m    a = Square(\"\",\"\",\"\")\u001b[0m\n\u001b[0m    ^\u001b[0m\n\u001b[0;31mSyntaxError\u001b[0m\u001b[0;31m:\u001b[0m invalid syntax\n"
          ]
        }
      ]
    }
  ]
}