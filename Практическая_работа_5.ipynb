{
  "nbformat": 4,
  "nbformat_minor": 0,
  "metadata": {
    "colab": {
      "name": "Практическая работа 5.ipynb",
      "provenance": [],
      "authorship_tag": "ABX9TyPwE3cwYGDNRmxIk/CZE+y2",
      "include_colab_link": true
    },
    "kernelspec": {
      "name": "python3",
      "display_name": "Python 3"
    },
    "language_info": {
      "name": "python"
    }
  },
  "cells": [
    {
      "cell_type": "markdown",
      "metadata": {
        "id": "view-in-github",
        "colab_type": "text"
      },
      "source": [
        "<a href=\"https://colab.research.google.com/github/SofiaShvedova/ShvedovaSS/blob/main/%D0%9F%D1%80%D0%B0%D0%BA%D1%82%D0%B8%D1%87%D0%B5%D1%81%D0%BA%D0%B0%D1%8F_%D1%80%D0%B0%D0%B1%D0%BE%D1%82%D0%B0_5.ipynb\" target=\"_parent\"><img src=\"https://colab.research.google.com/assets/colab-badge.svg\" alt=\"Open In Colab\"/></a>"
      ]
    },
    {
      "cell_type": "code",
      "metadata": {
        "colab": {
          "base_uri": "https://localhost:8080/"
        },
        "id": "ulwKifZKlXnR",
        "outputId": "07199555-8630-4d73-910d-32685fddca88"
      },
      "source": [
        "# Задание 1\n",
        "import math\n",
        "\n",
        "class Square:\n",
        "  def __init__(self,squares,length,width):\n",
        "    self.squares = squares\n",
        "    self.length = length\n",
        "    self.width = width\n",
        "  \n",
        "\n",
        "  def roll(self):\n",
        "    return math.ceil(self.squares/(self.length * self.width))\n",
        "  def __str__(self):\n",
        "    return (\"Площадь под оклейку: {}, длина 1 рулона: {}, ширина 1 рулона: {}\\nСколько рулонов потребуется: {}\".format(self.squares,self.length,self.width, self.roll()))\n",
        "\n",
        "a = Square(\"\",\"\",\"\")\n",
        "a.squares = int(input(\"Введите площадь: \"))\n",
        "a.length = int(input(\"Введите длину 1 рулона: \"))\n",
        "a.width = int(input(\"Введите ширину 1 рулона: \"))\n",
        "print(a)"
      ],
      "execution_count": 9,
      "outputs": [
        {
          "output_type": "stream",
          "name": "stdout",
          "text": [
            "Введите площадь: 250\n",
            "Введите длину 1 рулона: 30\n",
            "Введите ширину 1 рулона: 3\n",
            "Площадь под оклейку: 250, длина 1 рулона: 30, ширина 1 рулона: 3\n",
            "Сколько рулонов потребуется: 3\n"
          ]
        }
      ]
    }
  ]
}