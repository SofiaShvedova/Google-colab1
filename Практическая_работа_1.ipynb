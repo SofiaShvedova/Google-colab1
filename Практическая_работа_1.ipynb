{
  "nbformat": 4,
  "nbformat_minor": 0,
  "metadata": {
    "colab": {
      "name": "Практическая работа 1.ipynb",
      "provenance": [],
      "authorship_tag": "ABX9TyOGqI4xpnjmp8VRN2fUn38C",
      "include_colab_link": true
    },
    "kernelspec": {
      "name": "python3",
      "display_name": "Python 3"
    },
    "language_info": {
      "name": "python"
    }
  },
  "cells": [
    {
      "cell_type": "markdown",
      "metadata": {
        "id": "view-in-github",
        "colab_type": "text"
      },
      "source": [
        "<a href=\"https://colab.research.google.com/github/SofiaShvedova/ShvedovaSS/blob/main/%D0%9F%D1%80%D0%B0%D0%BA%D1%82%D0%B8%D1%87%D0%B5%D1%81%D0%BA%D0%B0%D1%8F_%D1%80%D0%B0%D0%B1%D0%BE%D1%82%D0%B0_1.ipynb\" target=\"_parent\"><img src=\"https://colab.research.google.com/assets/colab-badge.svg\" alt=\"Open In Colab\"/></a>"
      ]
    },
    {
      "cell_type": "code",
      "metadata": {
        "colab": {
          "base_uri": "https://localhost:8080/"
        },
        "id": "VchueZAmzaaC",
        "outputId": "2ede37d5-0573-4c67-d313-a72475e6de2b"
      },
      "source": [
        "# Практическое задание 1. 1 задание\n",
        "\n",
        "class First:\n",
        "  color = \"Red\"\n",
        "  def out(self):\n",
        "    print(self.color + \"!\")\n",
        "\n",
        "obj1 = First()\n",
        "obj2 = First()\n",
        "\n",
        "print(obj1.color)\n",
        "print(obj2.color)\n",
        "obj1.out()\n",
        "obj2.out()"
      ],
      "execution_count": null,
      "outputs": [
        {
          "output_type": "stream",
          "name": "stdout",
          "text": [
            "Red\n",
            "Red\n",
            "Red!\n",
            "Red!\n"
          ]
        }
      ]
    },
    {
      "cell_type": "code",
      "metadata": {
        "colab": {
          "base_uri": "https://localhost:8080/"
        },
        "id": "VI5oinNV09QS",
        "outputId": "66580308-1092-4bcb-9347-e66923ec0be0"
      },
      "source": [
        "# Практическое задание 1. 2 задание\n",
        "\n",
        "class Second:\n",
        "  color = \"red\"\n",
        "  form = \"circle\"\n",
        "  name = \"Nick\"\n",
        "  def changecolor(self, newcolor):\n",
        "    self.color = newcolor\n",
        "  def changeform(self, newform):\n",
        "    self.form = newform\n",
        "  def changename(self, newname):\n",
        "    self.name = newname\n",
        "  \n",
        "obj1 = Second()\n",
        "obj2 = Second()\n",
        "obj3 = Second()\n",
        "\n",
        "print(obj1.color, obj1.form)\n",
        "print(obj2.color, obj2.form)\n",
        "print(obj3.color, obj2.form)\n",
        "\n",
        "obj1.changecolor(\"green\")\n",
        "obj2.changecolor(\"blue\")\n",
        "obj2.changeform(\"oval\")\n",
        "obj3.changename(\"Mina\")\n",
        "\n",
        "print(obj1.color, obj1.form)\n",
        "print(obj2.color, obj2.form)\n",
        "print(obj3.color, obj2.form, obj3.name)"
      ],
      "execution_count": null,
      "outputs": [
        {
          "output_type": "stream",
          "name": "stdout",
          "text": [
            "red circle\n",
            "red circle\n",
            "red circle\n",
            "green circle\n",
            "blue oval\n",
            "red oval Mina\n"
          ]
        }
      ]
    },
    {
      "cell_type": "code",
      "metadata": {
        "colab": {
          "base_uri": "https://localhost:8080/"
        },
        "id": "aX-ZTnKe3IYf",
        "outputId": "1c0e8557-2de8-4de6-a609-fd7de67fe4be"
      },
      "source": [
        "# Практическое задание 1. 3 задание\n",
        "\n",
        "class Doctor:\n",
        "  name = \"Анастасия\"\n",
        "  surname = \"Попова\"\n",
        "  def changename(self, newname):\n",
        "    self.name = newname\n",
        "  def changesurname(self, newsurname):\n",
        "    self.surname = newsurname\n",
        "\n",
        "obj1 = Doctor()\n",
        "obj2 = Doctor()\n",
        "obj1.changename(\"Даня\")\n",
        "obj2.changesurname(\"Петров\")\n",
        "\n",
        "class Teacher:\n",
        "  years = \"21\"\n",
        "  gendar = \"М\"\n",
        "  def changeyears(self, newyears):\n",
        "    self.years = newyears\n",
        "  def changegender(self, newgender):\n",
        "    self.gender = newgender\n",
        "\n",
        "obj3 = Teacher()\n",
        "obj4 = Teacher()\n",
        "obj3.changeyears(\"23\")\n",
        "obj4.changegender(\"Ж\")\n",
        "\n",
        "obj1.changename(obj3.years)\n",
        "\n",
        "print(obj1.surname,\",\",obj3.years,\"года\",\",\",obj4.gender)\n",
        "\n"
      ],
      "execution_count": null,
      "outputs": [
        {
          "output_type": "stream",
          "name": "stdout",
          "text": [
            "Попова , 23 года , Ж\n"
          ]
        }
      ]
    },
    {
      "cell_type": "code",
      "metadata": {
        "colab": {
          "base_uri": "https://localhost:8080/"
        },
        "id": "JpjYsYNtAdU-",
        "outputId": "c24d6331-050d-4f33-b474-e18c2fd356d3"
      },
      "source": [
        "# Практическое задание 2. 1 задание\n",
        "\n",
        "class Bulding: # создание класса\n",
        "  def __init__(self, w,c,n =0): # создание метода \n",
        "    self.what = w\n",
        "    self.color = c\n",
        "    self.numbers = n\n",
        "    self.mwhere(n)\n",
        "  def mwhere(self,n): # создание нового метода для того, чтобы выполнить условия \"if\", \"elif\", \"else\" с одной переменной n\n",
        "    if n<=0:\n",
        "      self.where = \"отсутствует\" # создание атрибута where объектов\n",
        "    elif 0 < n < 100:\n",
        "      self.where = \"малый склад\"\n",
        "    else:\n",
        "      self.where = \"основной склад\"\n",
        "\n",
        "  def plus(self,p): # создание метода \n",
        "    self.numbers = self.numbers + p\n",
        "    self.mwhere(self.numbers)\n",
        "  def minus(self,m): # создание метода \n",
        "    self.numbers = self.numbers - m\n",
        "    self.mwhere(self.numbers)\n",
        "\n",
        "m1 = Bulding(\"доски\", \"белые\", 50) # инициализация объектов\n",
        "m2 = Bulding(\"доски\", \"коричневые\", 300)\n",
        "m3 = Bulding(\"кирпичи\", \"белые\")\n",
        "\n",
        "print(m1.what, m1.color, m1.where)  # вывод\n",
        "print(m2.what, m2.color, m2.where)\n",
        "print(m3.what, m3.color, m3.where)\n",
        "\n",
        "m1.plus(500)\n",
        "print(m1.numbers, m1.where)\n"
      ],
      "execution_count": null,
      "outputs": [
        {
          "output_type": "stream",
          "name": "stdout",
          "text": [
            "доски белые малый склад\n",
            "доски коричневые основной склад\n",
            "кирпичи белые отсутствует\n",
            "550 основной склад\n"
          ]
        }
      ]
    },
    {
      "cell_type": "code",
      "metadata": {
        "colab": {
          "base_uri": "https://localhost:8080/"
        },
        "id": "-HzX92I7E5Gn",
        "outputId": "46d924f4-69c8-438a-f2b6-c65cc50569d8"
      },
      "source": [
        "# Практическое задание 2. 2 задание\n",
        "\n",
        "class Oborotenb:\n",
        "  def __init__(self,n,years = 0):\n",
        "    self.name = n\n",
        "    self.years = years\n",
        "    self.plusik(years)  \n",
        "\n",
        "  def plusik(self,years):\n",
        "    if years > 10:\n",
        "      self.year = \"Ты слишком стар для оборотня\"\n",
        "    elif 5 <= years <= 10:\n",
        "      self.year = \"Ты еще в расцвете сил для оборотня\"\n",
        "    else:\n",
        "      self.year = \"Ты еще слишком молод для оборотня\"\n",
        "\n",
        "\n",
        "\n",
        "k1 = Oborotenb(\"Алекс\", 11)\n",
        "k2 = Oborotenb(\"Злой\", 6)\n",
        "k3 = Oborotenb(\"Добрый\", 3)\n",
        "print(k1.name,\",\", k1.years,\"лет\",\".\", k1.year)\n",
        "print(k2.name,\",\", k2.years,\"лет\",\".\", k2.year)\n",
        "print(k3.name,\",\", k3.years,\"лет\",\".\", k3.year)\n",
        "\n",
        " "
      ],
      "execution_count": 54,
      "outputs": [
        {
          "output_type": "stream",
          "name": "stdout",
          "text": [
            "Алекс , 11 лет . Ты слишком стар для оборотня\n",
            "Злой , 6 лет . Ты еще в расцвете сил для оборотня\n",
            "Добрый , 3 лет . Ты еще слишком молод для оборотня\n"
          ]
        }
      ]
    },
    {
      "cell_type": "code",
      "metadata": {
        "colab": {
          "base_uri": "https://localhost:8080/"
        },
        "id": "Ot1Ra-l2PpD0",
        "outputId": "1bfa6030-a588-4572-c2d5-ebe2eeb44386"
      },
      "source": [
        "# Практическое задание 3. 1 задание\n",
        "\n",
        "class figure:\n",
        "  def __init__(self,l, w, h, c = \"white\"):\n",
        "    self.c = c\n",
        "    self.l = l\n",
        "    self.w = w\n",
        "    self.h = h\n",
        "\n",
        "  def changecolor(self, newcolor):\n",
        "    self.color = newcolor\n",
        "\n",
        "class oval(figure):\n",
        "  def mina(self, name):\n",
        "    self.name = name\n",
        "\n",
        "class square(figure):\n",
        "  def mina1(self,surname):\n",
        "    self.surname = surname\n",
        "\n",
        "\n",
        "\n",
        "\n",
        "\n",
        "h2.changecolor = \"blue\"\n",
        "h1.name = \"Oval\"\n",
        "h1.l = \"15 см\"\n",
        "h1.w = \"5 мм\"\n",
        "h2.l = \"10 см\"\n",
        "h2.w = \"10 cм\"\n",
        "h2.surname = \"Square\"\n",
        "print(h1.name,\",\",h1.c,\",\",h1.l,\"на\", h1.w)\n",
        "print(h2.surname,\",\",h2.changecolor,\",\", h2.l,\"на\",h2.w)\n"
      ],
      "execution_count": 34,
      "outputs": [
        {
          "output_type": "stream",
          "name": "stdout",
          "text": [
            "Oval , white , 15 см на 5 мм\n",
            "Square , blue , 10 см на 10 cм\n"
          ]
        }
      ]
    }
  ]
}