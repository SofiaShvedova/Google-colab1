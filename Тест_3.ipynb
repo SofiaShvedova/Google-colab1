{
  "nbformat": 4,
  "nbformat_minor": 0,
  "metadata": {
    "colab": {
      "name": "Тест 3.ipynb",
      "provenance": [],
      "authorship_tag": "ABX9TyM9KugMO6tQkJ6F3q5cVvNo",
      "include_colab_link": true
    },
    "kernelspec": {
      "name": "python3",
      "display_name": "Python 3"
    },
    "language_info": {
      "name": "python"
    }
  },
  "cells": [
    {
      "cell_type": "markdown",
      "metadata": {
        "id": "view-in-github",
        "colab_type": "text"
      },
      "source": [
        "<a href=\"https://colab.research.google.com/github/SofiaShvedova/ShvedovaSS/blob/main/%D0%A2%D0%B5%D1%81%D1%82_3.ipynb\" target=\"_parent\"><img src=\"https://colab.research.google.com/assets/colab-badge.svg\" alt=\"Open In Colab\"/></a>"
      ]
    },
    {
      "cell_type": "code",
      "metadata": {
        "colab": {
          "base_uri": "https://localhost:8080/"
        },
        "id": "HEPB5T-JMwbx",
        "outputId": "f8048932-ea23-425e-8c8f-38069d3b5b5c"
      },
      "source": [
        "def double_word(word):\n",
        "  rez = word + word\n",
        "  return word+word +str(len(rez))\n",
        "                        \n",
        "print(double_word(\"hello\"))\n",
        "print(double_word(\"abs\"))\n",
        "print(double_word(\"\"))"
      ],
      "execution_count": null,
      "outputs": [
        {
          "output_type": "stream",
          "name": "stdout",
          "text": [
            "hellohello10\n",
            "absabs6\n",
            "0\n"
          ]
        }
      ]
    },
    {
      "cell_type": "code",
      "metadata": {
        "colab": {
          "base_uri": "https://localhost:8080/"
        },
        "id": "RrHMI_yCNiHi",
        "outputId": "71ad2a6f-03a3-40d3-c662-10310c1d1594"
      },
      "source": [
        "def combine_guests(guests1,guests2):\n",
        "    guests = guests1.copy()\n",
        "    guests.update(guests2)\n",
        "    return guests\n",
        "Rores_guests = {\"Adam\":2, \"Brenda\":3, \"David\":1, \"Jose\":3, \"Charlotte\":2, \"Terry\":1, \"Robert\":4}\n",
        "Taylors_guests = {\"David\":4, \"Nancy\":1, \"Robert\":2,\"Adam\":1, \"Samantha\":3, \"Chris\":5}\n",
        "\n",
        "print(combine_guests(Rores_guests,Taylors_guests))"
      ],
      "execution_count": null,
      "outputs": [
        {
          "output_type": "stream",
          "name": "stdout",
          "text": [
            "{'Adam': 1, 'Brenda': 3, 'David': 4, 'Jose': 3, 'Charlotte': 2, 'Terry': 1, 'Robert': 2, 'Nancy': 1, 'Samantha': 3, 'Chris': 5}\n"
          ]
        }
      ]
    },
    {
      "cell_type": "code",
      "metadata": {
        "colab": {
          "base_uri": "https://localhost:8080/"
        },
        "id": "fYs42VP6PQxd",
        "outputId": "24db7da9-5266-4b46-8b81-c040cbace05f"
      },
      "source": [
        "def car_listing(car_prices):\n",
        "  result = \"\"\n",
        "  for m in car_prices.keys():\n",
        "    result += \"{0} costs {1} dollars\".format(m,car_prices[m]) + \"\\n\"\n",
        "  return result\n",
        "\n",
        "print(car_listing({\"Kia Soul\":19000, \"Lamborghini Diablo\":55000, \"Ford Fiesta\": 13000, \"Toyota Prius\": 24000}))"
      ],
      "execution_count": null,
      "outputs": [
        {
          "output_type": "stream",
          "name": "stdout",
          "text": [
            "Kia Soul costs 19000 dollars\n",
            "Lamborghini Diablo costs 55000 dollars\n",
            "Ford Fiesta costs 13000 dollars\n",
            "Toyota Prius costs 24000 dollars\n",
            "\n"
          ]
        }
      ]
    },
    {
      "cell_type": "code",
      "metadata": {
        "colab": {
          "base_uri": "https://localhost:8080/"
        },
        "id": "XHPDIbnKQasN",
        "outputId": "d2e18f4b-b798-4a3f-9d52-60fdd0476583"
      },
      "source": [
        "Weather = \"Rainfall\"\n",
        "print(Weather[:4])"
      ],
      "execution_count": null,
      "outputs": [
        {
          "output_type": "stream",
          "name": "stdout",
          "text": [
            "Rain\n"
          ]
        }
      ]
    },
    {
      "cell_type": "code",
      "metadata": {
        "colab": {
          "base_uri": "https://localhost:8080/"
        },
        "id": "D5HIHdgcoeBU",
        "outputId": "064f9242-a229-4bd1-d43e-09f07d95a26b"
      },
      "source": [
        "def format_address(address_string):\n",
        "  house_number = 0\n",
        "  street_name = []\n",
        "  address = address_string.split()\n",
        "  for item in address:\n",
        "    if item.isnumeric():\n",
        "      house_number = item\n",
        "    else:\n",
        "      street_name.append(item)\n",
        "  return \"house number {} on street named {}\".format(house_number, \" \".join(street_name))\n",
        "\n",
        "print(format_address(\"123 Main Street\"))\n",
        "print(format_address(\"1001 1st Ave\"))\n",
        "print(format_address(\"55 North Center Drive\"))"
      ],
      "execution_count": null,
      "outputs": [
        {
          "output_type": "stream",
          "name": "stdout",
          "text": [
            "house number 123 on street named Main Street\n",
            "house number 1001 on street named 1st Ave\n",
            "house number 55 on street named North Center Drive\n"
          ]
        }
      ]
    },
    {
      "cell_type": "code",
      "metadata": {
        "colab": {
          "base_uri": "https://localhost:8080/"
        },
        "id": "1VbTvgl4SEUd",
        "outputId": "fbc26185-8544-43a8-d205-ff1085ee9093"
      },
      "source": [
        "def replace_ending(sentence, old, new):\n",
        "    if sentence.endswith(old):\n",
        "        return sentence[:-len(old)] + new\n",
        "    return sentence\n",
        "\n",
        "print(replace_ending(\"It's raining cats and cats\", \"cats\", \"dogs\")) \n",
        "print(replace_ending(\"She sells seashells by the seashore\", \"seashells\", \"donuts\")) \n",
        "print(replace_ending(\"The weather is nice in May\", \"may\", \"april\")) \n",
        "print(replace_ending(\"The weather is nice in May\", \"May\", \"April\")) "
      ],
      "execution_count": null,
      "outputs": [
        {
          "output_type": "stream",
          "name": "stdout",
          "text": [
            "It's raining cats and dogs\n",
            "She sells seashells by the seashore\n",
            "The weather is nice in May\n",
            "The weather is nice in April\n"
          ]
        }
      ]
    },
    {
      "cell_type": "code",
      "metadata": {
        "colab": {
          "base_uri": "https://localhost:8080/"
        },
        "id": "E_rztg3FTFsm",
        "outputId": "206f7763-621b-4b3b-b235-993495189b19"
      },
      "source": [
        "colors = [\"red\",\"white\",\"blue\"]\n",
        "colors.insert(2,\"yellow\")\n",
        "print(colors)"
      ],
      "execution_count": null,
      "outputs": [
        {
          "output_type": "stream",
          "name": "stdout",
          "text": [
            "['red', 'white', 'yellow', 'blue']\n"
          ]
        }
      ]
    },
    {
      "cell_type": "code",
      "metadata": {
        "colab": {
          "base_uri": "https://localhost:8080/"
        },
        "id": "-tsvcRZoTuM0",
        "outputId": "9705ff10-bc25-4d37-ad9f-907ff92d7ea6"
      },
      "source": [
        "def convert_distante(miles):\n",
        "  km = miles * 1.6\n",
        "  result = \"{} miles equals {:.1f} km\".format(miles,km)\n",
        "  return result\n",
        "print(convert_distante(12))"
      ],
      "execution_count": null,
      "outputs": [
        {
          "output_type": "stream",
          "name": "stdout",
          "text": [
            "12 miles equals 19.2 km\n"
          ]
        }
      ]
    },
    {
      "cell_type": "code",
      "metadata": {
        "colab": {
          "base_uri": "https://localhost:8080/"
        },
        "id": "wl4R3W7rXDOF",
        "outputId": "1cd1b033-d2b4-4435-a185-44725ac1b291"
      },
      "source": [
        "def combine_lists(list1,list2):\n",
        "  new_list = list2\n",
        "  for i in reversed(range(len(list1))):\n",
        "    new_list.append(list1[i])\n",
        "  return new_list\n",
        "Jamies_list = [\"Alice\",\"Cindy\",\"Bobby\",\"Jan\",\"Peter\"]\n",
        "Drews_list = [\"Mike\",\"Carol\",\"Greg\",\"Marcia\"]\n",
        "print(combine_lists(Jamies_list,Drews_list))"
      ],
      "execution_count": null,
      "outputs": [
        {
          "output_type": "stream",
          "name": "stdout",
          "text": [
            "['Mike', 'Carol', 'Greg', 'Marcia', 'Peter', 'Jan', 'Bobby', 'Cindy', 'Alice']\n"
          ]
        }
      ]
    },
    {
      "cell_type": "code",
      "metadata": {
        "colab": {
          "base_uri": "https://localhost:8080/"
        },
        "id": "CankH4JwXw7f",
        "outputId": "4d446983-25a6-479d-f3e4-5ce246a72dc9"
      },
      "source": [
        "def count_letters(text):\n",
        "    result = {}\n",
        "    text=text.lower()\n",
        "    for letter in text:\n",
        "        if letter.isalpha():\n",
        "            result[letter] = result.get(letter,0) + 1\n",
        "        else:\n",
        "            pass\n",
        "    return result\n",
        "\n",
        "print(count_letters(\"AaBbCc\"))\n",
        "print(count_letters(\"Math is fun! 2+2=4\"))\n",
        "print(count_letters(\"This is a sentence.\"))"
      ],
      "execution_count": null,
      "outputs": [
        {
          "output_type": "stream",
          "name": "stdout",
          "text": [
            "{'a': 2, 'b': 2, 'c': 2}\n",
            "{'m': 1, 'a': 1, 't': 1, 'h': 1, 'i': 1, 's': 1, 'f': 1, 'u': 1, 'n': 1}\n",
            "{'t': 2, 'h': 1, 'i': 2, 's': 3, 'a': 1, 'e': 3, 'n': 2, 'c': 1}\n"
          ]
        }
      ]
    },
    {
      "cell_type": "code",
      "metadata": {
        "colab": {
          "base_uri": "https://localhost:8080/"
        },
        "id": "R-18tv6mZvJK",
        "outputId": "97fe66e7-d8c8-473d-8976-9c1551922db1"
      },
      "source": [
        "def student_grade(name,grade):\n",
        "  return \"{} получил {}% на экзамене\".format(name,grade)\n",
        "print(student_grade(\"Reed\",80))\n",
        "print(student_grade(\"Paige\",92))\n",
        "print(student_grade(\"Jesse\",85))"
      ],
      "execution_count": null,
      "outputs": [
        {
          "output_type": "stream",
          "name": "stdout",
          "text": [
            "Reed получил 80% на экзамене\n",
            "Paige получил 92% на экзамене\n",
            "Jesse получил 85% на экзамене\n"
          ]
        }
      ]
    },
    {
      "cell_type": "code",
      "metadata": {
        "colab": {
          "base_uri": "https://localhost:8080/"
        },
        "id": "m4ZZyOJyqOo5",
        "outputId": "9ce83568-9870-415f-80fa-bb8927247412"
      },
      "source": [
        "def is_palindrome(input_string):\n",
        "  new_string = \"\"\n",
        "  reverse_string = \"\"\n",
        "  for letter in input_string:\n",
        "    if letter != \" \":\n",
        "      new_string += letter \n",
        "      reverse_string = letter + reverse_string\n",
        "  if new_string.lower() == reverse_string.lower():\n",
        "      return True\n",
        "  return False\n",
        "print(is_palindrome(\"Never Odd or Even\"))\n",
        "print(is_palindrome(\"abc\"))\n",
        "print(is_palindrome(\"kayak\"))"
      ],
      "execution_count": null,
      "outputs": [
        {
          "output_type": "stream",
          "name": "stdout",
          "text": [
            "True\n",
            "False\n",
            "True\n"
          ]
        }
      ]
    },
    {
      "cell_type": "code",
      "metadata": {
        "colab": {
          "base_uri": "https://localhost:8080/"
        },
        "id": "8YWAAh1WqzgH",
        "outputId": "c33dd72c-76dd-4324-ef74-1dddc60a2c8e"
      },
      "source": [
        "word = \"supercalifragilisticexpialidocious\"\n",
        "print(word.index(\"x\"))"
      ],
      "execution_count": null,
      "outputs": [
        {
          "output_type": "stream",
          "name": "stdout",
          "text": [
            "21\n"
          ]
        }
      ]
    },
    {
      "cell_type": "code",
      "metadata": {
        "colab": {
          "base_uri": "https://localhost:8080/"
        },
        "id": "S8t8y1NhrF6V",
        "outputId": "a664d186-f5e6-4e25-850e-b1b3bd58183e"
      },
      "source": [
        "def initials(phrase):\n",
        "  words = phrase.split()\n",
        "  result = \"\"\n",
        "  for word in words:\n",
        "    result += word[0].upper()\n",
        "  return result\n",
        "\n",
        "print(initials('Universal Serial Bus'))\n",
        "print(initials('Local area network'))\n",
        "print(initials('Operating system'))\n"
      ],
      "execution_count": null,
      "outputs": [
        {
          "output_type": "stream",
          "name": "stdout",
          "text": [
            "USB\n",
            "LAN\n",
            "OS\n"
          ]
        }
      ]
    },
    {
      "cell_type": "code",
      "metadata": {
        "colab": {
          "base_uri": "https://localhost:8080/"
        },
        "id": "6RkF_5eXrmWj",
        "outputId": "173b31d5-5d74-4302-c0ba-6370efd3633c"
      },
      "source": [
        "def highlight_word(sentence, word):\n",
        "  return(sentence.replace(word,word.upper()))\n",
        "print(highlight_word(\"Have a nice day\", \"nice\"))"
      ],
      "execution_count": null,
      "outputs": [
        {
          "output_type": "stream",
          "name": "stdout",
          "text": [
            "Have a NICE day\n"
          ]
        }
      ]
    },
    {
      "cell_type": "code",
      "metadata": {
        "colab": {
          "base_uri": "https://localhost:8080/"
        },
        "id": "oKdfvsAHr8Sg",
        "outputId": "472da3a5-7126-48d6-8aca-1d8f2db1bb34"
      },
      "source": [
        "def get_word(sentence, n):\n",
        "  sentence = sentence.split(\" \")\n",
        "  if n <= len(sentence) and n>0:\n",
        "    return(sentence[n-1])  \n",
        "  else:\n",
        "    return \"\"\n",
        "print(get_word(\"This is a lesson about lists\", 4))\n",
        "print(get_word(\"This is a lesson about lists\", -4))\n",
        "print(get_word(\"Now we are cooking!\", 1))\n",
        "print(get_word(\"Now we are cooking!\", 5))"
      ],
      "execution_count": null,
      "outputs": [
        {
          "output_type": "stream",
          "name": "stdout",
          "text": [
            "lesson\n",
            "\n",
            "Now\n",
            "\n"
          ]
        }
      ]
    },
    {
      "cell_type": "code",
      "metadata": {
        "colab": {
          "base_uri": "https://localhost:8080/"
        },
        "id": "llFi6Oz_sLe9",
        "outputId": "7a801da3-a75a-40ef-8543-c108b8aa3cf0"
      },
      "source": [
        "def first_and_last(message):\n",
        "  if len(message) == 0 or message[0] == message[-1]:\n",
        "    return True\n",
        "  else:\n",
        "    return False\n",
        "\n",
        "print(first_and_last(\"else\"))\n",
        "print(first_and_last(\"tree\"))\n",
        "print(first_and_last(\"\"))"
      ],
      "execution_count": null,
      "outputs": [
        {
          "output_type": "stream",
          "name": "stdout",
          "text": [
            "True\n",
            "False\n",
            "True\n"
          ]
        }
      ]
    },
    {
      "cell_type": "code",
      "metadata": {
        "colab": {
          "base_uri": "https://localhost:8080/"
        },
        "id": "TuKgDv0RtN8B",
        "outputId": "10e45a2c-0ccd-4883-824f-3cc51c671232"
      },
      "source": [
        "n = int(input())\n",
        "print(*[i * i for i in range(1, n + 1)])\n"
      ],
      "execution_count": null,
      "outputs": [
        {
          "output_type": "stream",
          "name": "stdout",
          "text": [
            "21\n",
            "1 4 9 16 25 36 49 64 81 100 121 144 169 196 225 256 289 324 361 400 441\n"
          ]
        }
      ]
    }
  ]
}