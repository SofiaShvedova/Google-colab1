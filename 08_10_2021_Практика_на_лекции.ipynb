{
  "nbformat": 4,
  "nbformat_minor": 0,
  "metadata": {
    "colab": {
      "name": "08.10.2021 Практика на лекции.ipynb",
      "provenance": [],
      "authorship_tag": "ABX9TyPXu6AEQF1ziLI6ZHPFV522",
      "include_colab_link": true
    },
    "kernelspec": {
      "name": "python3",
      "display_name": "Python 3"
    },
    "language_info": {
      "name": "python"
    }
  },
  "cells": [
    {
      "cell_type": "markdown",
      "metadata": {
        "id": "view-in-github",
        "colab_type": "text"
      },
      "source": [
        "<a href=\"https://colab.research.google.com/github/SofiaShvedova/ShvedovaSS/blob/main/08_10_2021_%D0%9F%D1%80%D0%B0%D0%BA%D1%82%D0%B8%D0%BA%D0%B0_%D0%BD%D0%B0_%D0%BB%D0%B5%D0%BA%D1%86%D0%B8%D0%B8.ipynb\" target=\"_parent\"><img src=\"https://colab.research.google.com/assets/colab-badge.svg\" alt=\"Open In Colab\"/></a>"
      ]
    },
    {
      "cell_type": "code",
      "metadata": {
        "colab": {
          "base_uri": "https://localhost:8080/"
        },
        "id": "IPu1w8Wiaq5b",
        "outputId": "229499cd-a10f-4b05-e9da-e4acbe6434bd"
      },
      "source": [
        "class Table:\n",
        "  def __init__(self,l,w,h): # инициализация конструктора для класса table, где 3 параметра: ширина, высота, длина\n",
        "    self.length = l\n",
        "    self.width = w\n",
        "    self.height = h\n",
        "\n",
        "class KitchenTable(Table):\n",
        "  def __init__(self, l, w, h, p):\n",
        "    Table.__init__(self, l, w, h)\n",
        "    self.places = p\n",
        "\n",
        "class DeskTable(Table):\n",
        "  def square(self):\n",
        "    return self.width * self.length\n",
        "\n",
        "t1 = KitchenTable(2,2,0.7, 10)\n",
        "print(\"длина -\",t1.length, \"ширина -\",t1.width,\"высота -\", t1.height)\n",
        "print(t1.places)\n",
        "print(t1.width)\n",
        "t2 = DeskTable(1.5,0.8,0.75)\n",
        "print(\"длина -\",t2.length, \"ширина -\",t2.width,\"высота -\", t2.height)\n",
        "t3 = KitchenTable(1.,1.2,0.8, 15)\n",
        "print(\"длина -\",t3.length, \"ширина -\",t3.width,\"высота -\", t3.height)\n",
        "\n",
        "class ComputerTable(DeskTable):\n",
        "  def square(self, e):\n",
        "    return self.width * self.height\n",
        "\n",
        "ct =  ComputerTable(2,1,1)\n",
        "ct.square(0.3)\n"
      ],
      "execution_count": 24,
      "outputs": [
        {
          "output_type": "stream",
          "name": "stdout",
          "text": [
            "длина - 2 ширина - 2 высота - 0.7\n",
            "10\n",
            "2\n",
            "длина - 1.5 ширина - 0.8 высота - 0.75\n",
            "длина - 1.0 ширина - 1.2 высота - 0.8\n"
          ]
        },
        {
          "output_type": "execute_result",
          "data": {
            "text/plain": [
              "1"
            ]
          },
          "metadata": {},
          "execution_count": 24
        }
      ]
    },
    {
      "cell_type": "code",
      "metadata": {
        "colab": {
          "base_uri": "https://localhost:8080/"
        },
        "id": "_j1Roe6yfldK",
        "outputId": "f1be066a-24b4-4db6-97c3-c3e45f4ed1ef"
      },
      "source": [
        "from random import randint\n",
        "\n",
        "class Person:\n",
        "  count = 0\n",
        "  def __init__(self, c):\n",
        "    self.id = Person.count\n",
        "    Person.count +=1\n",
        "    self.command = c\n",
        "\n",
        "class Hero(Person):\n",
        "  def __init__(self,c):\n",
        "    Person.__init__(self,c)\n",
        "    self.level = 1\n",
        "  def uplevel(self):\n",
        "    self.level +=1\n",
        "\n",
        "class Soldier(Person):\n",
        "  def __init__(self, c):\n",
        "    Person.__init__(self,c)\n",
        "    self.my_hero = None\n",
        "  def follow(self, hero):\n",
        "    self.my_hero = hero.id\n",
        "\n",
        "\n",
        "h1 = Hero(1)\n",
        "h2 = Hero(2)\n",
        "army1 = []\n",
        "army2 = []\n",
        "\n",
        "for i in range(20):\n",
        "  n = randint(1,2)\n",
        "  if n == 1:\n",
        "    army1.append(Soldier(n))\n",
        "  else:\n",
        "    army2.append(Soldier(n))\n",
        "print(len(army1), len(army2))\n",
        "\n",
        "if len(army1) > len(army2):\n",
        "  h1.uplevel()\n",
        "\n",
        "else:\n",
        "  h2.uplevel()\n",
        "\n",
        "army1[0].follow(h1)\n",
        "print(army1[0].id, h1.id)"
      ],
      "execution_count": 30,
      "outputs": [
        {
          "output_type": "stream",
          "name": "stdout",
          "text": [
            "10 10\n",
            "2 0\n"
          ]
        }
      ]
    },
    {
      "cell_type": "code",
      "metadata": {
        "colab": {
          "base_uri": "https://localhost:8080/"
        },
        "id": "jCzvhoYHkwEY",
        "outputId": "6d140ee8-5b5a-4c27-83f7-f673c862c024"
      },
      "source": [
        "class Worker: # класс работник\n",
        "  def __init__(self, year, days, name, oklad): # конструктор класса\n",
        "    self.year = year\n",
        "    self.days = 365\n",
        "    self.name = name\n",
        "\n",
        "  def calc(self): # функция подсчёта стаж работы работника на данном предприятии\n",
        "    return 2020 - self.year\n",
        "\n",
        "  def cacl1(self): # Функция по подсчёту количества дней, которое прошло после года поступления на работу\n",
        "    return (2020 - self.year) * self.days\n",
        "\n",
        "  def __del__(self): # деструктор\n",
        "    pass\n",
        "  \n",
        "  def __str__(self):   # оператор преобразования в строку информации об объекте\n",
        "    return (\"Фамилия: {}, оклад: {}, год поступления на работу: {}, \\nстаж работника на данном предприятии: {}, \\nколичества дней, которое прошло после года поступления на работу: {}\".format(self.name, self.oklad, self.year, self.calc(), self.cacl1()))\n",
        "\n",
        "obj1 = Worker(\"\",\"\",\"\",\"\")  # 1-й объект класса\n",
        "obj1.name = input(\"Введите фамилию = \")\n",
        "obj1.year = int(input(\"Введите год поступления на работу = \"))\n",
        "obj1.oklad = int(input(\"Введите оклад = \"))\n",
        "\n",
        "obj2 = Worker(\"\",\"\",\"\",\"\") # 2-й объект класса\n",
        "obj2.name = input(\"Введите фамилию = \")\n",
        "obj2.year = int(input(\"Введите год поступления на работу = \"))\n",
        "obj2.oklad = int(input(\"Введите оклад = \"))\n",
        "\n",
        "obj3 = Worker(\"\",\"\",\"\",\"\") # 3-й объект класса\n",
        "obj3.name = input(\"Введите фамилию = \")\n",
        "obj3.year = int(input(\"Введите год поступления на работу = \"))\n",
        "obj3.oklad = int(input(\"Введите оклад = \"))\n",
        "\n",
        "print(obj1)\n",
        "print(obj2)\n",
        "print(obj3)\n",
        "\n",
        "print(\"Удаление объекта obj1\")\n",
        "print(\"Удаление объекта obj2\")\n",
        "print(\"Удаление объекта obj3\")\n",
        "\n",
        "del obj1\n",
        "del obj2\n",
        "del obj3"
      ],
      "execution_count": 36,
      "outputs": [
        {
          "output_type": "stream",
          "name": "stdout",
          "text": [
            "Введите фамилию = Петров\n",
            "Введите год поступления на работу = 2003\n",
            "Введите оклад = 20000\n",
            "Введите фамилию = Дмитров\n",
            "Введите год поступления на работу = 2018\n",
            "Введите оклад = 10500\n",
            "Введите фамилию = Илюшин\n",
            "Введите год поступления на работу = 2019\n",
            "Введите оклад = 39305\n",
            "Фамилия: Петров, оклад: 20000, год поступления на работу: 2003, \n",
            "стаж работника на данном предприятии: 17, \n",
            "количества дней, которое прошло после года поступления на работу: 6205\n",
            "Фамилия: Дмитров, оклад: 10500, год поступления на работу: 2018, \n",
            "стаж работника на данном предприятии: 2, \n",
            "количества дней, которое прошло после года поступления на работу: 730\n",
            "Фамилия: Илюшин, оклад: 39305, год поступления на работу: 2019, \n",
            "стаж работника на данном предприятии: 1, \n",
            "количества дней, которое прошло после года поступления на работу: 365\n",
            "Удаление объекта obj1\n",
            "Удаление объекта obj2\n",
            "Удаление объекта obj3\n"
          ]
        }
      ]
    }
  ]
}