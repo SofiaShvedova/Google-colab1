{
  "nbformat": 4,
  "nbformat_minor": 0,
  "metadata": {
    "colab": {
      "name": "Практическая работа 2.ipynb",
      "provenance": [],
      "authorship_tag": "ABX9TyOlqdW9qqXIpSBSK1mKQWcz",
      "include_colab_link": true
    },
    "kernelspec": {
      "name": "python3",
      "display_name": "Python 3"
    },
    "language_info": {
      "name": "python"
    }
  },
  "cells": [
    {
      "cell_type": "markdown",
      "metadata": {
        "id": "view-in-github",
        "colab_type": "text"
      },
      "source": [
        "<a href=\"https://colab.research.google.com/github/SofiaShvedova/ShvedovaSS/blob/main/%D0%9F%D1%80%D0%B0%D0%BA%D1%82%D0%B8%D1%87%D0%B5%D1%81%D0%BA%D0%B0%D1%8F_%D1%80%D0%B0%D0%B1%D0%BE%D1%82%D0%B0_2.ipynb\" target=\"_parent\"><img src=\"https://colab.research.google.com/assets/colab-badge.svg\" alt=\"Open In Colab\"/></a>"
      ]
    },
    {
      "cell_type": "code",
      "metadata": {
        "id": "4uVlfe8KWkll"
      },
      "source": [
        "class Rectangle:\n",
        "  def __init__(self, w = 0.5, h = 1):\n",
        "    self.widh = w\n",
        "    self.height = h\n",
        "  def square(self):\n",
        "    return self.width * self.height\n",
        "\n",
        "rec1 = Rectangle(5,2)\n",
        "rec2 = Rectangle()\n",
        "rec3 = Rectangle(3)\n",
        "rec4 = Rectangle(h = 4)"
      ],
      "execution_count": null,
      "outputs": []
    },
    {
      "cell_type": "code",
      "metadata": {
        "colab": {
          "base_uri": "https://localhost:8080/",
          "height": 178
        },
        "id": "kPSD80pDfuab",
        "outputId": "d77c0e70-b92a-43a5-e710-ec26fc1eb6b9"
      },
      "source": [
        "class Person:\n",
        "  def __init__(self, n, s, q = 1):\n",
        "    self.name = n\n",
        "    self.surname = s\n",
        "    self.skill = q\n",
        "  def __del__(self):\n",
        "    print(\"До свидания, мистер\", self.name, self.surname)\n",
        "  def into(self):\n",
        "    return \"{0} {1}, {2}\".format(self.name, self.surname, self.skill)\n",
        "\n",
        "worker = Person(\"И\", \"Котов\", 3)\n",
        "helper = Person(\"Д\", \"Мышев\", 1)\n",
        "maker = Person(\"О\", \"Рисов\", 2)\n",
        "\n",
        "print(worker.into())\n",
        "print(helper.into())\n",
        "print(maker.into())\n",
        "\n",
        "del helper\n",
        "print(\"Конец программы\")\n",
        "input()"
      ],
      "execution_count": 123,
      "outputs": [
        {
          "name": "stdout",
          "output_type": "stream",
          "text": [
            "До свидания, мистер И Котов\n",
            "До свидания, мистер О Рисов\n",
            "И Котов, 3\n",
            "Д Мышев, 1\n",
            "О Рисов, 2\n",
            "До свидания, мистер Д Мышев\n",
            "Конец программы\n",
            "да\n"
          ]
        },
        {
          "output_type": "execute_result",
          "data": {
            "application/vnd.google.colaboratory.intrinsic+json": {
              "type": "string"
            },
            "text/plain": [
              "'да'"
            ]
          },
          "metadata": {},
          "execution_count": 123
        }
      ]
    },
    {
      "cell_type": "code",
      "metadata": {
        "id": "cZms2X33jX6z",
        "colab": {
          "base_uri": "https://localhost:8080/",
          "height": 178
        },
        "outputId": "13337b75-b50d-4739-ba02-5891c3d5abb9"
      },
      "source": [
        "class Student:\n",
        "  def __init__(self, surname, university, gender, grade, group=\"АДЭУ-211\"):\n",
        "    self.surname = surname\n",
        "    self.group = group\n",
        "    self.university = university\n",
        "    self.gender = gender\n",
        "    self.grade = grade\n",
        "\n",
        "  def __del__(self):\n",
        "      print(\"Отчислен студент\", self.surname, d[self.grade])\n",
        "  def display(self):\n",
        "      return \"{0} {1}, {2}\".format(self.surname, self.university, self.gender, self.group, d[self.grade])\n",
        "\n",
        "\n",
        "d = {2:\"Задолжник\", 4:\"Ударник\", 5:\"Отличник\"}\n",
        "\n",
        "\n",
        "s2 = Student(\"Маяковский\", \"МГПУ\", \"м\", 2)\n",
        "s3 = Student(\"Манясина\", \"МГПУ\", \"ж\", 2)\n",
        "s1 = Student(\"Петров\", \"МГПУ\",\"м\", 2)\n",
        "\n",
        "print(s1.display())\n",
        "print(s2.display())\n",
        "print(s3.display())\n",
        "\n",
        "del s1\n",
        "del s2\n",
        "del s3\n",
        "print(\"Конец программы\")\n",
        "input()"
      ],
      "execution_count": 122,
      "outputs": [
        {
          "name": "stdout",
          "output_type": "stream",
          "text": [
            "Петров МГПУ, м\n",
            "Маяковский МГПУ, м\n",
            "Манясина МГПУ, ж\n",
            "Отчислен студент Петров Задолжник\n",
            "Отчислен студент Маяковский Задолжник\n",
            "Отчислен студент Манясина Задолжник\n",
            "Конец программы\n",
            "да\n"
          ]
        },
        {
          "output_type": "execute_result",
          "data": {
            "application/vnd.google.colaboratory.intrinsic+json": {
              "type": "string"
            },
            "text/plain": [
              "'да'"
            ]
          },
          "metadata": {},
          "execution_count": 122
        }
      ]
    }
  ]
}