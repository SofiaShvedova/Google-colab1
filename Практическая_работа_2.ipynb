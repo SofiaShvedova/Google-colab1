{
  "nbformat": 4,
  "nbformat_minor": 0,
  "metadata": {
    "colab": {
      "name": "Практическая работа 2.ipynb",
      "provenance": [],
      "authorship_tag": "ABX9TyMo2AOgOA7iBefdS2p+z5qF",
      "include_colab_link": true
    },
    "kernelspec": {
      "name": "python3",
      "display_name": "Python 3"
    },
    "language_info": {
      "name": "python"
    }
  },
  "cells": [
    {
      "cell_type": "markdown",
      "metadata": {
        "id": "view-in-github",
        "colab_type": "text"
      },
      "source": [
        "<a href=\"https://colab.research.google.com/github/SofiaShvedova/ShvedovaSS/blob/main/%D0%9F%D1%80%D0%B0%D0%BA%D1%82%D0%B8%D1%87%D0%B5%D1%81%D0%BA%D0%B0%D1%8F_%D1%80%D0%B0%D0%B1%D0%BE%D1%82%D0%B0_2.ipynb\" target=\"_parent\"><img src=\"https://colab.research.google.com/assets/colab-badge.svg\" alt=\"Open In Colab\"/></a>"
      ]
    },
    {
      "cell_type": "code",
      "metadata": {
        "id": "r0bq4uLg97_i"
      },
      "source": [
        "class Rectangle:\n",
        "  def __init__(self, w = 0.5, h = 1):\n",
        "    self.widh = w\n",
        "    self.height = h\n",
        "  def square(self):\n",
        "    return self.width * self.height\n",
        "\n",
        "rec1 = Rectangle(5,2)\n",
        "rec2 = Rectangle()\n",
        "rec3 = Rectangle(3)\n",
        "rec4 = Rectangle(h = 4)"
      ],
      "execution_count": 3,
      "outputs": []
    },
    {
      "cell_type": "code",
      "metadata": {
        "colab": {
          "base_uri": "https://localhost:8080/",
          "height": 142
        },
        "id": "s519vatH93tz",
        "outputId": "0d3e72cd-caed-471e-d4b8-68a17d3cab9b"
      },
      "source": [
        "class Person:\n",
        "  def __init__(self, n, s, q = 1):\n",
        "    self.name = n\n",
        "    self.surname = s\n",
        "    self.skill = q\n",
        "  def __del__(self):\n",
        "    print(\"До свидания, мистер\", self.name, self.surname)\n",
        "  def into(self):\n",
        "    return \"{0} {1}, {2}\".format(self.name, self.surname, self.skill)\n",
        "\n",
        "worker = Person(\"И\", \"Котов\", 3)\n",
        "helper = Person(\"Д\", \"Мышев\", 1)\n",
        "maker = Person(\"О\", \"Рисов\", 2)\n",
        "\n",
        "print(worker.into())\n",
        "print(helper.into())\n",
        "print(maker.into())\n",
        "\n",
        "del helper\n",
        "print(\"Конец программы\")\n",
        "input()"
      ],
      "execution_count": 2,
      "outputs": [
        {
          "name": "stdout",
          "output_type": "stream",
          "text": [
            "И Котов, 3\n",
            "Д Мышев, 1\n",
            "О Рисов, 2\n",
            "До свидания, мистер Д Мышев\n",
            "Конец программы\n",
            "да\n"
          ]
        },
        {
          "output_type": "execute_result",
          "data": {
            "application/vnd.google.colaboratory.intrinsic+json": {
              "type": "string"
            },
            "text/plain": [
              "'да'"
            ]
          },
          "metadata": {},
          "execution_count": 2
        }
      ]
    },
    {
      "cell_type": "code",
      "metadata": {
        "colab": {
          "base_uri": "https://localhost:8080/"
        },
        "id": "lO2nejrD9y7S",
        "outputId": "c0143c28-ba69-4550-fe9f-69c15545b46d"
      },
      "source": [
        "class Student:\n",
        "  def __init__(self, surname, university, gender, grade, mail, phone,institute,faculty, group=\"АДЭУ-211\"):\n",
        "    self.surname = surname\n",
        "    self.group = group\n",
        "    self.university = university\n",
        "    self.gender = gender\n",
        "    self.grade = grade\n",
        "    self.mail = mail\n",
        "    self.phone = phone\n",
        "    self.institute = institute\n",
        "    self.faculty = faculty\n",
        "\n",
        "  def __del__(self):\n",
        "      print(\"Отчислен студент\", self.surname, d[self.grade])\n",
        "  def display(self):\n",
        "      return \"{0} {1}, {2}, {3}, {4}, {5}, {6}, {7}, {8}\".format(self.surname, self.university, self.gender, self.group, d[self.grade],self.mail,self.phone, self.institute, self.faculty)\n",
        "\n",
        "\n",
        "d = {2:\"Задолжник\", 4:\"Ударник\", 5:\"Отличник\"}\n",
        "s1 = Student(\"Петров Павел Андреевич\", \"МГПУ\",\"м\", 5, \"petrov666@mail.ru\", \"8940556675\", \"ИЦО\", \"Аналитика данных\")\n",
        "print(s1.display())\n",
        "s2 = Student(\"Маяковский Андрей Викторович\", \"МГПУ\", \"м\", 2, \"mayak@mail.ru\", \"8800553535\", \"ИЦО\", \"Аналитика данных\")\n",
        "print(s2.display())\n",
        "s3 = Student(\"Манясина Мария Александровна\", \"МГПУ\", \"ж\", 4, \"manyasina777@gmail.com\", \"8850458595\", \"ИЦО\", \"Аналитика данных\")\n",
        "print(s3.display())\n",
        "\n",
        "if s1.grade < s2.grade:\n",
        "  del s1\n",
        "elif s1.grade > s2.grade:\n",
        "  del s2\n",
        "else:\n",
        "  print(\"МОЛОДЦЫ!\")"
      ],
      "execution_count": 1,
      "outputs": [
        {
          "output_type": "stream",
          "name": "stdout",
          "text": [
            "Петров Павел Андреевич МГПУ, м, АДЭУ-211, Отличник, petrov666@mail.ru, 8940556675, ИЦО, Аналитика данных\n",
            "Маяковский Андрей Викторович МГПУ, м, АДЭУ-211, Задолжник, mayak@mail.ru, 8800553535, ИЦО, Аналитика данных\n",
            "Манясина Мария Александровна МГПУ, ж, АДЭУ-211, Ударник, manyasina777@gmail.com, 8850458595, ИЦО, Аналитика данных\n",
            "Отчислен студент Маяковский Андрей Викторович Задолжник\n"
          ]
        }
      ]
    }
  ]
}