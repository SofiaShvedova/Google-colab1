{
  "nbformat": 4,
  "nbformat_minor": 0,
  "metadata": {
    "colab": {
      "name": "Лабораторная работа 3.ipynb",
      "provenance": [],
      "authorship_tag": "ABX9TyNSg0x1wOjooCu6oNp/c/R9",
      "include_colab_link": true
    },
    "kernelspec": {
      "name": "python3",
      "display_name": "Python 3"
    },
    "language_info": {
      "name": "python"
    }
  },
  "cells": [
    {
      "cell_type": "markdown",
      "metadata": {
        "id": "view-in-github",
        "colab_type": "text"
      },
      "source": [
        "<a href=\"https://colab.research.google.com/github/SofiaShvedova/Google-colab1/blob/main/%D0%9B%D0%B0%D0%B1%D0%BE%D1%80%D0%B0%D1%82%D0%BE%D1%80%D0%BD%D0%B0%D1%8F_%D1%80%D0%B0%D0%B1%D0%BE%D1%82%D0%B0_3.ipynb\" target=\"_parent\"><img src=\"https://colab.research.google.com/assets/colab-badge.svg\" alt=\"Open In Colab\"/></a>"
      ]
    },
    {
      "cell_type": "code",
      "metadata": {
        "id": "dRtY_5IuW8A5"
      },
      "source": [
        "№ 3.2.1\n",
        "\n",
        "Составьте программу, которая запрашивает у пользователя 2 целых числа и выполняет операции:\n",
        "\n",
        "арифметические: +, -, * , / , // , %, **;\n",
        "\n",
        "сравнение: <, <=, >, >=, !=, ==,\n",
        "\n",
        "выводя на экран результат каждого действия. В случае получение вещественного результата, округлите его до 2-х знаков после запятой (используя функцию round())."
      ],
      "execution_count": null,
      "outputs": []
    },
    {
      "cell_type": "code",
      "metadata": {
        "colab": {
          "base_uri": "https://localhost:8080/"
        },
        "id": "OFEciAIBXTco",
        "outputId": "f0f9491c-0aad-4a0b-dcc7-a783534e18db"
      },
      "source": [
        "# Программирование на языке высокого уровня (Python).\n",
        "# https://www.yuripetrov.ru/edu/python\n",
        "# Задание task_03_02_01.\n",
        "#\n",
        "# Выполнил: Шведова Софья Сергеевна\n",
        "# Группа: АДЭУ-211\n",
        "# E-mail: shvedova_sofiya23@mail.ru\n",
        "\n",
        "\n",
        "a = int(input(\"a=\"))\n",
        "b = int(input(\"b=\"))\n",
        "\n",
        "print(a + b)\n",
        "print(a - b)\n",
        "print (a * b)\n",
        "print (round (a / b, 2))\n",
        "print (a // b)\n",
        "print (a % b)\n",
        "print (a ** b)\n",
        "print ( a < b )\n",
        "print ( a > b )\n",
        "print ( a >= b )\n",
        "print ( a <= b )\n",
        "print ( a != b )\n",
        "print ( a == b )"
      ],
      "execution_count": 11,
      "outputs": [
        {
          "output_type": "stream",
          "name": "stdout",
          "text": [
            "a=23\n",
            "b=35\n",
            "58\n",
            "-12\n",
            "805\n",
            "0.66\n",
            "0\n",
            "23\n",
            "457587614181485537342488537004525777796719632007\n",
            "True\n",
            "False\n",
            "False\n",
            "True\n",
            "True\n",
            "False\n"
          ]
        }
      ]
    },
    {
      "cell_type": "code",
      "metadata": {
        "id": "DeN8iO_EXUXg"
      },
      "source": [
        "№ 3.2.3.\n",
        "\n",
        "Дана электрическая цепь, состоящая из 2-х последовательно соединенных проводников (сопротивление каждого известно). Найти общее сопротивление цепи (округление результата необходимо выполнить до 1-го знака после запятой).\n",
        "\n",
        "Решение (начало и общий ход мыслей):\n",
        "\n",
        "Аналитическое решение.\n",
        "\n",
        "Проводники соединены последовательно, поэтому общее сопротивление цепи будет равно сумме их сопротивлений. \n",
        "Сопротивление может быть вещественным числом, поэтому для его хранения необходимо выбрать тип float.\n",
        "\n",
        "Алгоритм.\n",
        "\n",
        "- ввести 2 вещественных значения - сопротивления проводников;\n",
        "- вычислить их сумму;\n",
        "- вывести ответ на экран.\n",
        "Программа.\n",
        "\n",
        "# здесь должна быть программа"
      ],
      "execution_count": null,
      "outputs": []
    },
    {
      "cell_type": "code",
      "metadata": {
        "colab": {
          "base_uri": "https://localhost:8080/"
        },
        "id": "q7nt7OV4XaDx",
        "outputId": "bc8b19b3-b0d2-481d-dae1-8e5e82b04f84"
      },
      "source": [
        "# Программирование на языке высокого уровня (Python).\n",
        "# https://www.yuripetrov.ru/edu/python\n",
        "# Задание task_03_02_03.\n",
        "#\n",
        "# Выполнил: Шведова Софья Сергеевна\n",
        "# Группа: АДЭУ-211\n",
        "# E-mail: shvedova_sofiya23@mail.ru\n",
        "\n",
        "\n",
        "\n",
        "r1 = float(input(\"r1=\"))\n",
        "r2 = float(input(\"r2=\"))\n",
        "print (r1 + r2)\n"
      ],
      "execution_count": 10,
      "outputs": [
        {
          "output_type": "stream",
          "name": "stdout",
          "text": [
            "r1=23\n",
            "r2=15\n",
            "38.0\n"
          ]
        }
      ]
    },
    {
      "cell_type": "code",
      "metadata": {
        "id": "1FVGG0qLXi0D"
      },
      "source": [
        "№ 3.2.4\n",
        "\n",
        "Дано двузначное и трехзначное число. Для каждого выведите на экран сумму и произведение цифр."
      ],
      "execution_count": null,
      "outputs": []
    },
    {
      "cell_type": "code",
      "metadata": {
        "colab": {
          "base_uri": "https://localhost:8080/"
        },
        "id": "mI-fHSoKXqmx",
        "outputId": "c6c7129a-1382-4f18-a783-4ea13df6d7cb"
      },
      "source": [
        "# Программирование на языке высокого уровня (Python).\n",
        "# https://www.yuripetrov.ru/edu/python\n",
        "# Задание task_03_02_04.\n",
        "#\n",
        "# Выполнил: Шведова Софья Сергеевна\n",
        "# Группа: АДЭУ-211\n",
        "# E-mail: shvedova_sofiya23@mail.ru\n",
        "\n",
        "\n",
        "\n",
        "num2 = (input(\"Введите двухзначное число\"))\n",
        "\n",
        "num3 = (input(\"Введите трехзначное число\"))\n",
        "\n",
        "\n",
        "\n",
        "num2_1 = int(num2[0])\n",
        "num2_2 = int(num2[1])\n",
        "\n",
        "num3_1 = int(num3[0])\n",
        "num3_2 = int(num3[1])\n",
        "num3_3 = int(num3[2])\n",
        "\n",
        "\n",
        "# Сумма цифр двухзначного числа:\n",
        "print(num2_1 + num2_2)\n",
        "# Сумма цифр трехзначного числа:\n",
        "print(num3_1 + num3_2 + num3_3)\n",
        "\n",
        "# Произведение цифр двухзначного числа:\n",
        "print(num2_1 * num2_2)\n",
        "# Произведение цифр трехзначного числа:\n",
        "print(num3_1 * num3_2 * num3_3)\n"
      ],
      "execution_count": 9,
      "outputs": [
        {
          "output_type": "stream",
          "name": "stdout",
          "text": [
            "Введите двухзначное число69\n",
            "Введите трехзначное число666\n",
            "15\n",
            "18\n",
            "54\n",
            "216\n"
          ]
        }
      ]
    },
    {
      "cell_type": "code",
      "metadata": {
        "id": "KeClClDkZesm"
      },
      "source": [
        "№ 3.2.6\n",
        "\n",
        "Дано уравнение ax + b = 0 и отрезок [m;n]. Ответьте на вопрос, попадает ли решение уравнения в указанный отрезок.\n",
        "\n",
        "Решение (начало и общий ход мыслей):\n",
        "\n",
        "Аналитическое решение.\n",
        "\n",
        "Коэффициенты уравнения и величина отрезка - произвольны, возьмем целые числа. Решение x при этом может быть дробным. После определения x составим логическое выражение попадания в отрезок, что и будет ответом.\n",
        "\n",
        "Алгоритм.\n",
        "\n",
        "- ввести все неизвестные величины;\n",
        "- определить корень уравнения;\n",
        "- составить логическое выражение попадания корня в область;\n",
        "- вывести результат попадания на экран.\n",
        "Программа.\n",
        "\n",
        "# здесь должна быть программа"
      ],
      "execution_count": null,
      "outputs": []
    },
    {
      "cell_type": "code",
      "metadata": {
        "colab": {
          "base_uri": "https://localhost:8080/"
        },
        "id": "d3c2rfHWZk9z",
        "outputId": "c0baa8b0-7ea1-4bb0-f43f-5a0d080ed76a"
      },
      "source": [
        "# Программирование на языке высокого уровня (Python).\n",
        "# https://www.yuripetrov.ru/edu/python\n",
        "# Задание task_03_02_06.\n",
        "#\n",
        "# Выполнил: Шведова Софья Сергеевна\n",
        "# Группа: АДЭУ-211\n",
        "# E-mail: shvedova_sofiya23@mail.ru\n",
        "\n",
        "\n",
        "a = int(input(\"Введите значение а:\"))\n",
        "b = int(input(\"Введите значение b:\"))\n",
        "m = int(input(\"Введите значение m:\"))\n",
        "n = int(input(\"Введите значение n:\"))\n",
        "\n",
        "x = -b / a\n",
        "\n",
        "if x >=m and x<=5:\n",
        "    print(\"Попадает:\")\n",
        "else:\n",
        "    print(\"Не попадает\")\n"
      ],
      "execution_count": 15,
      "outputs": [
        {
          "output_type": "stream",
          "name": "stdout",
          "text": [
            "Введите значение а:3\n",
            "Введите значение b:5\n",
            "Введите значение m:9\n",
            "Введите значение n:1000\n",
            "Не попадает\n"
          ]
        }
      ]
    },
    {
      "cell_type": "code",
      "metadata": {
        "id": "g0G8y_S_XvKZ"
      },
      "source": [
        "№ 3.2.7\n",
        "\n",
        "Составьте программу, которая запрашивает название футбольной команды и повторяет его на экране со словами\n",
        "\n",
        "... - чемпион!\n",
        "После этого выполните:\n",
        "\n",
        "используя операцию дублирования, нарисуйте черту (набор \"-\"), длиной, равной размеру названия команды;\n",
        "\n",
        "преобразуйте строку в нижний регистр и выведите на экран:\n",
        "\n",
        "длину наименования команды;\n",
        "\n",
        "есть ли в наименовании команды буква \"п\" (True/False)?\n",
        "\n",
        "сколько раз повторяется буква \"а\"?"
      ],
      "execution_count": null,
      "outputs": []
    },
    {
      "cell_type": "code",
      "metadata": {
        "colab": {
          "base_uri": "https://localhost:8080/"
        },
        "id": "HYrySWaZXzsp",
        "outputId": "ca3b09c0-10eb-4d10-8990-f3c1d825ab00"
      },
      "source": [
        "# Программирование на языке высокого уровня (Python).\n",
        "# https://www.yuripetrov.ru/edu/python\n",
        "# Задание task_03_02_07.\n",
        "#\n",
        "# Выполнил: Шведова Софья Сергеевна\n",
        "# Группа: АДЭУ-211\n",
        "# E-mail: shvedova_sofiya23@mail.ru\n",
        "\n",
        "\n",
        "team = input(\"Введите название команды: \")\n",
        "\n",
        "print( team  + \"-\" + \"Чемпион!\")\n",
        "print(\"Количество букв в названии команды:\")\n",
        "print(len(team))\n",
        "print(\"Количество букв А названии команды:\")\n",
        "print(team.count(\"А\") + team.count(\"а\"))\n",
        "print(\"Есть ли буква п:\")\n",
        "'п' in team  # True"
      ],
      "execution_count": 7,
      "outputs": [
        {
          "output_type": "stream",
          "name": "stdout",
          "text": [
            "Введите название команды: Бмв\n",
            "Бмв-Чемпион!\n",
            "Количество букв в названии команды:\n",
            "3\n",
            "Количество букв А названии команды:\n",
            "0\n",
            "Есть ли буква п:\n"
          ]
        },
        {
          "output_type": "execute_result",
          "data": {
            "text/plain": [
              "False"
            ]
          },
          "metadata": {},
          "execution_count": 7
        }
      ]
    },
    {
      "cell_type": "code",
      "metadata": {
        "id": "Pw75bnfNX3pd"
      },
      "source": [
        "№ 3.2.8\n",
        "\n",
        "Составьте программу, которая запрашивает название государства и его столицы, а затем выводит сообщение:\n",
        "\n",
        "Государство - ..., столица - ...\n",
        "На месте многоточий должны быть выведены соответствующие значения."
      ],
      "execution_count": null,
      "outputs": []
    },
    {
      "cell_type": "code",
      "metadata": {
        "colab": {
          "base_uri": "https://localhost:8080/"
        },
        "id": "u5e4Ybt1X7OY",
        "outputId": "39231c8f-9e55-4745-9c5a-21732f6edf2b"
      },
      "source": [
        "# Программирование на языке высокого уровня (Python).\n",
        "# https://www.yuripetrov.ru/edu/python\n",
        "# Задание task_03_02_08.\n",
        "#\n",
        "# Выполнил: Шведова Софья Сергеевна\n",
        "# Группа: АДЭУ-211\n",
        "# E-mail: shvedova_sofiya23@mail.ru\n",
        "\n",
        "\n",
        "# Название государства\n",
        "country = input(\"Введите название государства:\")\n",
        "\n",
        "# Название столицы\n",
        "capital = input(\"Введите название столицы: \")\n",
        "\n",
        "print(format(\"Государство\" + \" - \"+ country + \",\" + \" столица\" + \" - \"  + capital))"
      ],
      "execution_count": 6,
      "outputs": [
        {
          "output_type": "stream",
          "name": "stdout",
          "text": [
            "Введите название государства:Россия матушка\n",
            "Введите название столицы: Москоу сити\n",
            "Государство - Россия матушка, столица - Москоу сити\n"
          ]
        }
      ]
    },
    {
      "cell_type": "code",
      "metadata": {
        "id": "H7Do-k1wYABs"
      },
      "source": [
        "№ 3.2.9\n",
        "\n",
        "Дано слово объектно-ориентированный. Используя индексацию и срезы составьте из него слова объект, ориентир, тир, кот, рента и выведите их на экран."
      ],
      "execution_count": null,
      "outputs": []
    },
    {
      "cell_type": "code",
      "metadata": {
        "colab": {
          "base_uri": "https://localhost:8080/"
        },
        "id": "Ii9-I7nqYAbJ",
        "outputId": "4c403192-0448-4ff9-ac50-498e9b535482"
      },
      "source": [
        "# Программирование на языке высокого уровня (Python).\n",
        "# https://www.yuripetrov.ru/edu/python\n",
        "# Задание task_03_02_09.\n",
        "#\n",
        "# Выполнил: Шведова Софья Сергеевна\n",
        "# Группа: АДЭУ-211\n",
        "# E-mail: shvedova_sofiya23@mail.ru\n",
        "\n",
        "word = \"объектно-ориентированный\"\n",
        "\n",
        "w1 = word[:6]  # (слово объект)w2 = word ориентир\n",
        "w2 = word[9:17] #ориентир\n",
        "w3 = word[14:17] #тир\n",
        "w4 = word[4] + word[7] + word[5] #кот\n",
        "w5 = word [10] + word[12] + word [13] +word [14] + word[19]\n",
        "\n",
        "print(w1, w2, w3, w4, w5, sep=\"\\n\")\n",
        " "
      ],
      "execution_count": 3,
      "outputs": [
        {
          "output_type": "stream",
          "name": "stdout",
          "text": [
            "объект\n",
            "ориентир\n",
            "тир\n",
            "кот\n",
            "рента\n"
          ]
        }
      ]
    }
  ]
}