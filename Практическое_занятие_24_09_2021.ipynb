{
  "nbformat": 4,
  "nbformat_minor": 0,
  "metadata": {
    "colab": {
      "name": "Практическое занятие 24.09.2021.ipynb",
      "provenance": [],
      "authorship_tag": "ABX9TyPjWfrFDAySHcS3Bo9UgWuP",
      "include_colab_link": true
    },
    "kernelspec": {
      "name": "python3",
      "display_name": "Python 3"
    },
    "language_info": {
      "name": "python"
    }
  },
  "cells": [
    {
      "cell_type": "markdown",
      "metadata": {
        "id": "view-in-github",
        "colab_type": "text"
      },
      "source": [
        "<a href=\"https://colab.research.google.com/github/SofiaShvedova/ShvedovaSS/blob/main/%D0%9F%D1%80%D0%B0%D0%BA%D1%82%D0%B8%D1%87%D0%B5%D1%81%D0%BA%D0%BE%D0%B5_%D0%B7%D0%B0%D0%BD%D1%8F%D1%82%D0%B8%D0%B5_24_09_2021.ipynb\" target=\"_parent\"><img src=\"https://colab.research.google.com/assets/colab-badge.svg\" alt=\"Open In Colab\"/></a>"
      ]
    },
    {
      "cell_type": "code",
      "metadata": {
        "colab": {
          "base_uri": "https://localhost:8080/"
        },
        "id": "E90KW96qSwYd",
        "outputId": "7377e1ef-d41b-4db7-a7e3-e747755ea822"
      },
      "source": [
        "class Cat:\n",
        "  def __init__(self):\n",
        "    self.hungry = True\n",
        "  def eat(self):\n",
        "    if self.hungry:\n",
        "      print(\"I am hungry...\")\n",
        "      self.hungry = False\n",
        "    else:\n",
        "      print(\"No, thanks!\")\n",
        "\n",
        "class Barsik(Cat):\n",
        "  def __init__(self):\n",
        "    Cat.__init__(self)\n",
        "    self.sound = \"Aaaamm!\"\n",
        "    print(self.sound)\n",
        "\n",
        "brs = Barsik()\n",
        "brs.eat()\n"
      ],
      "execution_count": null,
      "outputs": [
        {
          "output_type": "stream",
          "name": "stdout",
          "text": [
            "Aaaamm!\n",
            "I am hungry...\n"
          ]
        }
      ]
    },
    {
      "cell_type": "code",
      "metadata": {
        "colab": {
          "base_uri": "https://localhost:8080/"
        },
        "id": "mvpzSmJ-bGaR",
        "outputId": "4708c834-b321-4d50-9227-035b741b5047"
      },
      "source": [
        "class SpaceShip:\n",
        "  def __init__(self):\n",
        "    self.hp = 100\n",
        "    self.speed = 130000\n",
        "    self.crew = 64\n",
        "    self.power_reverse = 56000\n",
        "\n",
        "  def __str__(self):\n",
        "    return \"SpaceShip: {}; {}; {}; {}\".format(\n",
        "        self.hp, self.speed, self.crew, self.power_reverse)\n",
        "\n",
        "  def draw(self):\n",
        "    print(\"+-|--------|-+\")\n",
        "    print(\"+     ПП     +\")\n",
        "    print(\"+     ПП     +\")\n",
        "    print(\"+--П------П--+\")\n",
        "\n",
        "raketa = SpaceShip()\n",
        "raketa.draw()"
      ],
      "execution_count": null,
      "outputs": [
        {
          "output_type": "stream",
          "name": "stdout",
          "text": [
            "+-|--------|-+\n",
            "+     ПП     +\n",
            "+     ПП     +\n",
            "+--П------П--+\n"
          ]
        }
      ]
    },
    {
      "cell_type": "code",
      "metadata": {
        "colab": {
          "base_uri": "https://localhost:8080/"
        },
        "id": "ooFyNGbXX2Sd",
        "outputId": "231bf5a6-e2ed-4124-d232-f940baaea2a6"
      },
      "source": [
        "class StarDestroyer(SpaceShip):\n",
        "  def __init__(self):\n",
        "    super().__init__()\n",
        "    self.shields = 100\n",
        "    self.shields_enabled = False\n",
        "    self.weapons = [100]*15\n",
        "\n",
        "  def __str__(self):\n",
        "    return \"StarDestroyer: {}; {}\".format(self.shields, self.weapons)\n",
        "\n",
        "  def shields_on(self):\n",
        "    self.shields_enabled = True\n",
        "  \n",
        "  def shields_off(self):\n",
        "    self.shields_enabled = False\n",
        "\n",
        "  def hit(self):\n",
        "    if self.shields_enable:\n",
        "      self.shields -= 10\n",
        "    else:\n",
        "      self.hp -= 10\n",
        "\n",
        "  def draw(self):\n",
        "    print(\"       /\\       \")\n",
        "    print(\"      /  \\      \")\n",
        "    print(\"     /    \\     \")\n",
        "    print(\"    / |  | \\    \")\n",
        "    print(\"   /        \\   \")\n",
        "    print(\"  /   /..\\   \\  \")\n",
        "    print(\" /   +----+   \\ \")\n",
        "    print(\"+---+-+--+-+---+\")\n",
        "    print(\"    |_|  |_|    \")\n",
        "\n",
        "raket = StarDestroyer()\n",
        "raket.draw()"
      ],
      "execution_count": null,
      "outputs": [
        {
          "output_type": "stream",
          "name": "stdout",
          "text": [
            "       /\\       \n",
            "      /  \\      \n",
            "     /    \\     \n",
            "    / |  | \\    \n",
            "   /        \\   \n",
            "  /   /..\\   \\  \n",
            " /   +----+   \\ \n",
            "+---+-+--+-+---+\n",
            "    |_|  |_|    \n"
          ]
        }
      ]
    },
    {
      "cell_type": "code",
      "metadata": {
        "id": "33zy4kee0D5u",
        "outputId": "b4f1b51b-60c1-4d17-ce7b-644d7170a3f5",
        "colab": {
          "base_uri": "https://localhost:8080/"
        }
      },
      "source": [
        "class Section: # Секция со стрелкой = секция + другой рисунок\n",
        "  def __init__(self, color, active=False):\n",
        "    self.color = color\n",
        "    self.active = active\n",
        "\n",
        "  def draw(self):\n",
        "    print(\"+{:4}+\".format(self.color[:4]))\n",
        "    print(\"|/{}\\\\|\".format(\"##\" if self.active else \"  \"))\n",
        "    print(\"|\\\\{}/|\".format(\"##\" if self.active else \"  \"))\n",
        "\n",
        "class ArrowSection(Section):\n",
        "  def __init__(self, active=False):\n",
        "    super().__init__(\"Green\", active)\n",
        "\n",
        "  def draw(self):\n",
        "    print(\"+{:3}+\".format(self.color[:3]))\n",
        "    print(\"| {} |\".format(\"#\\\\\" if self.active else \"  \"))\n",
        "    print(\"| {} |\".format(\"#/\" if self.active else \"  \"))\n",
        "\n",
        "class TrafficLight: # Светофор = набор секций + правила переключения\n",
        "  def __init__(self):\n",
        "    self.section = [Section(\"Red\"),\n",
        "                    Section(\"Yellow\"), Section(\"Green\")]\n",
        "    self.time = 0\n",
        "    self.time_to_switch = 5\n",
        "    self.state_number = 0\n",
        "\n",
        "  def draw(self):\n",
        "    print(\"T = {}\".format(self.time))\n",
        "    for item in self.section:\n",
        "      item.draw()\n",
        "    print(\"+----+\\n\")\n",
        "\n",
        "  def step(self, time = 1):\n",
        "    self.time += time\n",
        "    self.time %= (self.time_to_switch * len(self.section))\n",
        "    self.state_number = self.time // self.time_to_switch\n",
        "    self.section[0].active = (self.state_number == 0)\n",
        "    self.section[1].active = (self.state_number == 1)\n",
        "    self.section[2].active = (self.state_number > 1)\n",
        "\n",
        "class TrafficExtendedLight(TrafficLight): # расширенный светофор = светофор + доп.секция + правила переключения доп секции\n",
        "  def __init__(self):\n",
        "    super().__init__()\n",
        "    self.section.append(ArrowSection(True))\n",
        "\n",
        "  def step(self, time=1):\n",
        "    super().step(time)\n",
        "    self.section[3].active = (self.state_number == 3)\n",
        "\n",
        "mom =TrafficExtendedLight()\n",
        "mom.step(time=0) \n",
        "mom.draw()\n",
        "\n",
        "kak=TrafficExtendedLight()\n",
        "kak.step(time=5) \n",
        "kak.draw()\n",
        "\n",
        "da=TrafficExtendedLight()\n",
        "da.step(time=10)\n",
        "da.draw()\n",
        "\n",
        "m=TrafficExtendedLight()\n",
        "m.step(time=15) \n",
        "m.draw()"
      ],
      "execution_count": 6,
      "outputs": [
        {
          "output_type": "stream",
          "name": "stdout",
          "text": [
            "T = 0\n",
            "+Red +\n",
            "|/##\\|\n",
            "|\\##/|\n",
            "+Yell+\n",
            "|/  \\|\n",
            "|\\  /|\n",
            "+Gree+\n",
            "|/  \\|\n",
            "|\\  /|\n",
            "+Gre+\n",
            "|    |\n",
            "|    |\n",
            "+----+\n",
            "\n",
            "T = 5\n",
            "+Red +\n",
            "|/  \\|\n",
            "|\\  /|\n",
            "+Yell+\n",
            "|/##\\|\n",
            "|\\##/|\n",
            "+Gree+\n",
            "|/  \\|\n",
            "|\\  /|\n",
            "+Gre+\n",
            "|    |\n",
            "|    |\n",
            "+----+\n",
            "\n",
            "T = 10\n",
            "+Red +\n",
            "|/  \\|\n",
            "|\\  /|\n",
            "+Yell+\n",
            "|/  \\|\n",
            "|\\  /|\n",
            "+Gree+\n",
            "|/##\\|\n",
            "|\\##/|\n",
            "+Gre+\n",
            "|    |\n",
            "|    |\n",
            "+----+\n",
            "\n",
            "T = 15\n",
            "+Red +\n",
            "|/  \\|\n",
            "|\\  /|\n",
            "+Yell+\n",
            "|/  \\|\n",
            "|\\  /|\n",
            "+Gree+\n",
            "|/##\\|\n",
            "|\\##/|\n",
            "+Gre+\n",
            "| #\\ |\n",
            "| #/ |\n",
            "+----+\n",
            "\n"
          ]
        }
      ]
    }
  ]
}